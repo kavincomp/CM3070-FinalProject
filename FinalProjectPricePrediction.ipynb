{
  "nbformat": 4,
  "nbformat_minor": 0,
  "metadata": {
    "colab": {
      "provenance": [],
      "authorship_tag": "ABX9TyPrvLkW5o/AP+Efkua9x664",
      "include_colab_link": true
    },
    "kernelspec": {
      "name": "python3",
      "display_name": "Python 3"
    },
    "language_info": {
      "name": "python"
    }
  },
  "cells": [
    {
      "cell_type": "markdown",
      "metadata": {
        "id": "view-in-github",
        "colab_type": "text"
      },
      "source": [
        "<a href=\"https://colab.research.google.com/github/kavincomp/FinalProjectSentimentAnalysis/blob/main/FinalProjectPricePrediction.ipynb\" target=\"_parent\"><img src=\"https://colab.research.google.com/assets/colab-badge.svg\" alt=\"Open In Colab\"/></a>"
      ]
    },
    {
      "cell_type": "markdown",
      "source": [
        "\n",
        "<h1><center>Price Prediction Analysis on the AirBnb Dataset </center><h1>\n",
        "\n",
        "<h3> <b>R.B.1 Introduction</b> </h3>\n",
        "\n",
        "<p> This project, will explore on the price prediction analysis performed on the New York AirBnb Dataset. The dataset, sourced from Kaggle, has a set of 48895 records, with 16 features, namely <i> id, host_id, name, host_name, latitude, longitude, room_type, price, minimum_nights, number_of_reviews, last_review, reviews_per_month, calculated_host_listings_count, availability_365.</i> A handful of features which are considered to influence the pricing of an accomodation will be selected. Those are <b><i>neighbourhood_group, room_type and minimum_nights</i>. The target variable would be '<i>price</i>'</b>. Various libraries such as <i> Numpy, Pandas,   Matplotlib, Scikit Learn, Keras, Tensorflow</i>  and their associated classes shall be used for this project work. </p>\n",
        "\n",
        "<p> The aim of this project is to create a robust deep learning model supported by the <i><b>MLP(Multi Layer Perceptron)</b></i> neural network model architecture, that predicts the price of the accomodation. The available data has been split on a 80 - 20 split , where the 80% will be used to train the model and the 20% to test the model using <i>train_test_split</i>. The model's architecture is then designed, trained, tested and the insights are presented.</i></p>.\n",
        "<p> Predicting prices is an important aspect in hospitality industry. The ability to estimate prices accurately,  benefits both the hosts and guests where they can tend to maximize their monetary returns.<br> For hosts through price prediction models, they can set competitive prices, based on the trends of the market in the area and optimise their revenue. And for the guests, these price prediction models, allow them to make better decisions based on their budget. In summary, such price prediction models, enables to build a trust with the hosts and guests through the platform and embrace positive experiences, improves satisfaction and scales the customer base.</p>`\n"
      ],
      "metadata": {
        "id": "yx2id-_kxAU0"
      }
    },
    {
      "cell_type": "markdown",
      "source": [
        "\n",
        "<h2><b> R.B.2 Importing Necessary Libraries</b> </h2>"
      ],
      "metadata": {
        "id": "qkJpal_aFnCO"
      }
    },
    {
      "cell_type": "code",
      "execution_count": null,
      "metadata": {
        "id": "8zlsY7WAMOtj"
      },
      "outputs": [],
      "source": [
        "import pandas as pd\n",
        "import tensorflow as tf\n",
        "from tensorflow import keras\n",
        "from tensorflow.keras.models import Sequential\n",
        "from tensorflow.keras.layers import LSTM, Dense, Dropout\n",
        "from sklearn.preprocessing import OneHotEncoder\n",
        "from sklearn.model_selection import train_test_split\n",
        "from keras import metrics\n",
        "from sklearn.preprocessing import MinMaxScaler"
      ]
    },
    {
      "cell_type": "markdown",
      "source": [
        "<h2><b>R.B.3 Retrieving the dataset from Google Drive</b></h2>"
      ],
      "metadata": {
        "id": "kHNotN9UFsYz"
      }
    },
    {
      "cell_type": "code",
      "source": [
        "from google.colab import drive\n",
        "drive.mount('/content/drive')"
      ],
      "metadata": {
        "colab": {
          "base_uri": "https://localhost:8080/"
        },
        "id": "CRlfWk7dtutH",
        "outputId": "bce83b6c-d6e7-47d2-a006-9bf580242d83"
      },
      "execution_count": null,
      "outputs": [
        {
          "output_type": "stream",
          "name": "stdout",
          "text": [
            "Mounted at /content/drive\n"
          ]
        }
      ]
    },
    {
      "cell_type": "code",
      "source": [
        "file_path = '/content/drive/My Drive/Colab Notebooks/PricePrediction/AB_NYC_2019.csv'\n",
        "\n",
        "newyork_ab=pd.read_csv(file_path)\n"
      ],
      "metadata": {
        "id": "4BpPvIkFt0v7"
      },
      "execution_count": null,
      "outputs": []
    },
    {
      "cell_type": "markdown",
      "source": [
        "\n",
        "<h2><b> R.B.4 Exploratory Data Analysis</b></h2>\n",
        "\n"
      ],
      "metadata": {
        "id": "6pPVgtDkF4rD"
      }
    },
    {
      "cell_type": "code",
      "source": [
        "print(newyork_ab.head())\n",
        "print(\"\\nTotal No. of Rows:\", newyork_ab.shape[0])\n",
        "print(\"\\nTotal No. of Columns:\", newyork_ab.shape[1])"
      ],
      "metadata": {
        "colab": {
          "base_uri": "https://localhost:8080/"
        },
        "id": "WDOCHRrYuAaX",
        "outputId": "5b452be7-1eb7-43ee-ebf3-ae3eee2ddad7"
      },
      "execution_count": null,
      "outputs": [
        {
          "output_type": "stream",
          "name": "stdout",
          "text": [
            "     id                                              name  host_id  \\\n",
            "0  2539                Clean & quiet apt home by the park     2787   \n",
            "1  2595                             Skylit Midtown Castle     2845   \n",
            "2  3647               THE VILLAGE OF HARLEM....NEW YORK !     4632   \n",
            "3  3831                   Cozy Entire Floor of Brownstone     4869   \n",
            "4  5022  Entire Apt: Spacious Studio/Loft by central park     7192   \n",
            "\n",
            "     host_name neighbourhood_group neighbourhood  latitude  longitude  \\\n",
            "0         John            Brooklyn    Kensington  40.64749  -73.97237   \n",
            "1     Jennifer           Manhattan       Midtown  40.75362  -73.98377   \n",
            "2    Elisabeth           Manhattan        Harlem  40.80902  -73.94190   \n",
            "3  LisaRoxanne            Brooklyn  Clinton Hill  40.68514  -73.95976   \n",
            "4        Laura           Manhattan   East Harlem  40.79851  -73.94399   \n",
            "\n",
            "         room_type  price  minimum_nights  number_of_reviews last_review  \\\n",
            "0     Private room    149               1                  9  19/10/2018   \n",
            "1  Entire home/apt    225               1                 45   21/5/2019   \n",
            "2     Private room    150               3                  0         NaN   \n",
            "3  Entire home/apt     89               1                270    5/7/2019   \n",
            "4  Entire home/apt     80              10                  9  19/11/2018   \n",
            "\n",
            "   reviews_per_month  calculated_host_listings_count  availability_365  \n",
            "0               0.21                               6               365  \n",
            "1               0.38                               2               355  \n",
            "2                NaN                               1               365  \n",
            "3               4.64                               1               194  \n",
            "4               0.10                               1                 0  \n",
            "\n",
            "Total No. of Rows: 48895\n",
            "\n",
            "Total No. of Columns: 16\n"
          ]
        }
      ]
    },
    {
      "cell_type": "code",
      "source": [
        "#to check for null values\n",
        "emptyroomtype = newyork_ab[pd.isna(newyork_ab['room_type'])]\n",
        "emptyneighbourhood_group = newyork_ab[pd.isna(newyork_ab['neighbourhood_group'])]\n",
        "emptyminimum_nights=newyork_ab[pd.isna(newyork_ab['minimum_nights'])]\n",
        "\n",
        "\n",
        "print(emptyroomtype)\n",
        "print(emptyneighbourhood_group)\n",
        "print(emptyminimum_nights)\n"
      ],
      "metadata": {
        "colab": {
          "base_uri": "https://localhost:8080/"
        },
        "id": "bvHd3FgKF3bN",
        "outputId": "c32bb7b2-2613-460d-853c-6b0f21649c0f"
      },
      "execution_count": null,
      "outputs": [
        {
          "output_type": "stream",
          "name": "stdout",
          "text": [
            "Empty DataFrame\n",
            "Columns: [id, name, host_id, host_name, neighbourhood_group, neighbourhood, latitude, longitude, room_type, price, minimum_nights, number_of_reviews, last_review, reviews_per_month, calculated_host_listings_count, availability_365]\n",
            "Index: []\n",
            "Empty DataFrame\n",
            "Columns: [id, name, host_id, host_name, neighbourhood_group, neighbourhood, latitude, longitude, room_type, price, minimum_nights, number_of_reviews, last_review, reviews_per_month, calculated_host_listings_count, availability_365]\n",
            "Index: []\n",
            "Empty DataFrame\n",
            "Columns: [id, name, host_id, host_name, neighbourhood_group, neighbourhood, latitude, longitude, room_type, price, minimum_nights, number_of_reviews, last_review, reviews_per_month, calculated_host_listings_count, availability_365]\n",
            "Index: []\n"
          ]
        }
      ]
    },
    {
      "cell_type": "markdown",
      "source": [
        "\n",
        "<h2><b>R.B.5 Selecting the Required Features </b></h2>\n",
        "\n",
        "<p> For this price prediction analysis project, 3 features that are considered to be most important that determines the price of an accomodation are selected. Those are <i> neighbourhood_group, 'room_type' and 'minimum_nights'</i> most of the price trends are based on this features. Example a neighbourhood group which is closer to the city centre and several amenities can be estimated to cost higher than those located away from the city centre. The room type varies, and prices range for different rooms depending on the rooms and service standards available. Finally <i>'minimum_nights'</i>. Not all listings allow for a single night stay. There are minimum stay duration with longer duration such as 100 days and above. This requirement also tend to affect the price of an accomodation, as committing for a longer duration stay avails lower prices per night.</p>\n",
        "\n",
        "<p> The target variable will be the 'price' feature. The above three features will be compiled and mapped to the target variable of 'price'.</p>"
      ],
      "metadata": {
        "id": "bNG-VCGItRpe"
      }
    },
    {
      "cell_type": "code",
      "source": [
        "selected_data=newyork_ab[['neighbourhood_group', 'room_type', 'minimum_nights']]\n",
        "target=newyork_ab['price']"
      ],
      "metadata": {
        "id": "mWcDFu51DuQS"
      },
      "execution_count": null,
      "outputs": []
    },
    {
      "cell_type": "code",
      "source": [
        "print(selected_data)"
      ],
      "metadata": {
        "colab": {
          "base_uri": "https://localhost:8080/"
        },
        "id": "FkwwknbXD3oD",
        "outputId": "39b81e80-8eca-41bb-aa6d-9efa012ee5cd"
      },
      "execution_count": null,
      "outputs": [
        {
          "output_type": "stream",
          "name": "stdout",
          "text": [
            "      neighbourhood_group        room_type  minimum_nights\n",
            "0                Brooklyn     Private room               1\n",
            "1               Manhattan  Entire home/apt               1\n",
            "2               Manhattan     Private room               3\n",
            "3                Brooklyn  Entire home/apt               1\n",
            "4               Manhattan  Entire home/apt              10\n",
            "...                   ...              ...             ...\n",
            "48890            Brooklyn     Private room               2\n",
            "48891            Brooklyn     Private room               4\n",
            "48892           Manhattan  Entire home/apt              10\n",
            "48893           Manhattan      Shared room               1\n",
            "48894           Manhattan     Private room               7\n",
            "\n",
            "[48895 rows x 3 columns]\n"
          ]
        }
      ]
    },
    {
      "cell_type": "markdown",
      "source": [
        "\n",
        "<h2><b> R.B.6 One Hot Encoding</b></h2>\n",
        "\n",
        "<p> The features <i> neighbourhood_group </i> and <i> room_type </i> are categorical variables. In other words they are not numerical representations. Machine Learning models require a numerical input for computational purposes. One hot encoding converts categrical representations into a binary vector ( where elements are represented as 0s or 1s.) . The minimum nights feature does not be one-hot encoded as it is already represented by integers.</p>\n",
        "\n",
        "<li>The length of the binary vector corresponds to the number of unique categories available in the feature.</li>\n",
        "<li>Only one element in the vector is 1. And the rest are 0s.</li>\n",
        "\n",
        "<h4><b>Example to Illustrate</b></h4>\n",
        "<p>\n",
        "Feature Column Name : Animals <br>\n",
        "Categories - Cats, Dogs, Rabbits <br>\n",
        "\n",
        "<h5>One Hot Encoded:</h5>\n",
        "\n",
        "<p> Length of the binary vector - 3 </p>\n",
        "\n",
        "<li> Cats - [1,0,0]</li>\n",
        "<li> Dogs - [0,1,0]</li>\n",
        "<li> Rabbits - [0,0,1]</li>\n"
      ],
      "metadata": {
        "id": "HfI4_o50vX3A"
      }
    },
    {
      "cell_type": "code",
      "source": [
        "# Encode categorical features\n",
        "encoder = OneHotEncoder(sparse=False, drop='first')\n",
        "encoded_features = encoder.fit_transform(selected_data[['neighbourhood_group', 'room_type']])\n",
        "\n",
        "#Chollet, F. 'Deep Learning with Python'\n"
      ],
      "metadata": {
        "colab": {
          "base_uri": "https://localhost:8080/"
        },
        "id": "csmFbDlHOIsP",
        "outputId": "f04932a7-a84a-4a80-ddb8-040c36fec3b6"
      },
      "execution_count": null,
      "outputs": [
        {
          "output_type": "stream",
          "name": "stderr",
          "text": [
            "/usr/local/lib/python3.10/dist-packages/sklearn/preprocessing/_encoders.py:868: FutureWarning: `sparse` was renamed to `sparse_output` in version 1.2 and will be removed in 1.4. `sparse_output` is ignored unless you leave `sparse` to its default value.\n",
            "  warnings.warn(\n"
          ]
        }
      ]
    },
    {
      "cell_type": "code",
      "source": [
        "encoded_features_names = encoder.get_feature_names_out(['neighbourhood_group','room_type'])"
      ],
      "metadata": {
        "id": "vj4MTG9_vTpH"
      },
      "execution_count": null,
      "outputs": []
    },
    {
      "cell_type": "code",
      "source": [
        "encoded_data = pd.DataFrame(encoded_features, columns=encoded_features_names)\n",
        "\n",
        "encoded_data['minimum_nights'] = selected_data['minimum_nights']\n",
        "\n",
        "print(encoded_data.head())"
      ],
      "metadata": {
        "id": "x8j6QFFHuPoX",
        "colab": {
          "base_uri": "https://localhost:8080/"
        },
        "outputId": "b0d1a76f-cc28-45af-ffbb-a57d8838f6d6"
      },
      "execution_count": null,
      "outputs": [
        {
          "output_type": "stream",
          "name": "stdout",
          "text": [
            "   neighbourhood_group_Brooklyn  neighbourhood_group_Manhattan  \\\n",
            "0                           1.0                            0.0   \n",
            "1                           0.0                            1.0   \n",
            "2                           0.0                            1.0   \n",
            "3                           1.0                            0.0   \n",
            "4                           0.0                            1.0   \n",
            "\n",
            "   neighbourhood_group_Queens  neighbourhood_group_Staten Island  \\\n",
            "0                         0.0                                0.0   \n",
            "1                         0.0                                0.0   \n",
            "2                         0.0                                0.0   \n",
            "3                         0.0                                0.0   \n",
            "4                         0.0                                0.0   \n",
            "\n",
            "   room_type_Private room  room_type_Shared room  minimum_nights  \n",
            "0                     1.0                    0.0               1  \n",
            "1                     0.0                    0.0               1  \n",
            "2                     1.0                    0.0               3  \n",
            "3                     0.0                    0.0               1  \n",
            "4                     0.0                    0.0              10  \n"
          ]
        }
      ]
    },
    {
      "cell_type": "markdown",
      "source": [
        "\n",
        "<h2><b>R.B.7 Train, Validation and Test Split </b></h2>\n",
        "\n",
        "<p> Splitting the available dataset into train and test set. Train set will be used to train the model and test set will be the set where the model will be evaluated on. </p> <p>The split is (0.2), 80% will be used for training and 20% will be used for testing. </p>"
      ],
      "metadata": {
        "id": "MmG3Azgyvf0M"
      }
    },
    {
      "cell_type": "code",
      "source": [
        "# Split the data into training, validation, and test sets\n",
        "X_train, X_temp, y_train_scaled, y_temp = train_test_split(encoded_data, target, test_size=0.3, random_state=42)\n"
      ],
      "metadata": {
        "id": "j0QdFedEOPXb"
      },
      "execution_count": null,
      "outputs": []
    },
    {
      "cell_type": "markdown",
      "source": [
        "<h2> Splitting the temporary set into test and validation set </h2>"
      ],
      "metadata": {
        "id": "cCfWuhRHmvRJ"
      }
    },
    {
      "cell_type": "code",
      "source": [
        "X_val, X_test, y_val_scaled, y_test_scaled = train_test_split(X_temp, y_temp, test_size=0.5, random_state=42)\n"
      ],
      "metadata": {
        "id": "gu8TQ2StmtHB"
      },
      "execution_count": null,
      "outputs": []
    },
    {
      "cell_type": "markdown",
      "source": [
        "\n",
        "<h2><b>R.B.8 Scaling the Target Variable </b> </h2>\n",
        "\n",
        "<p> The following code snippet scales the target variable <i>'y'</i> which represents the <i>'price'</i> to fall between -1 to +1. The 'price' feature has values ranging from 10s to 1000s. This broad range of values puts forward a difficulty to the model to learn and process.Hence, the scaling process to fall within the stipulated values. This is to ensure the compatibility of the variable and to achieve better performance of the model."
      ],
      "metadata": {
        "id": "kkdDzznsv3nZ"
      }
    },
    {
      "cell_type": "code",
      "source": [
        "scaler=MinMaxScaler()\n",
        "y_train_scaled = scaler.fit_transform(y_train_scaled.values.reshape(-1, 1))\n",
        "y_val_scaled = scaler.fit_transform(y_val_scaled.values.reshape(-1, 1))\n",
        "y_test_scaled = scaler.transform(y_test_scaled.values.reshape(-1, 1))\n"
      ],
      "metadata": {
        "id": "vjAoKO_3OUEa"
      },
      "execution_count": null,
      "outputs": []
    },
    {
      "cell_type": "markdown",
      "source": [
        "\n",
        "<h2> <b>R.B.9 Model Architecture </b> </h2>\n",
        "\n",
        "<p> The model architecture defined below is a multi layer perceptron. It consists of a single input and output layer and multiple hidden layers. It is feedforward neural network, which means, data flow is 'one-way'.</p>\n",
        "\n",
        "<li><i>model=Sequential()</i> defines this a liner stack of layers.Data flows sequentially through input --> hidden layers --> output.</li>\n",
        "<li>Input layer has 128 neurons. Its activation function is 'relu' which stands for <i>Rectified Linear Unit</i> which introduces non-linearity to mitigate vanishing gradient which is when the gradient becomes minimal (due to backpropagation or updating weights procedure) leading to slow learning.</li>\n",
        "<li> <i>input_shape=(X_train.shape[1],)))</i>This line of code specifies the shape of data being input into the model. The numeral 1 reprsents the features being input. Since the features area alrdy preprocessed in the above procedures and collated as a single input feature, '1' represents its dimensionality. </li>\n",
        "<li>The further next two layers are hidden layers. Dropouts are regularisation techniques to prevent overfitting, where the model performs better in the training set but not in the testing set data.</li>\n",
        "<li> The output layer is the final layer and does not have any activation function. <i>units=1</i> represent the predicted output target variable(i.e 'price')</li>\n",
        "<li>model.compile performs the compilation of the model with its hyperparamters. The optimizer used is 'adam' and loss specified is 'mean squared error'(average of the squared difference of the predicted and actual value. And the metric is Root Mean Squared Error, which is the square root of the MSE mentioned above. It is really useful as a metric to gauge the performance of the model, as it is in the same unit as the target variable('price'). </li>"
      ],
      "metadata": {
        "id": "syF2xyu3wZfQ"
      }
    },
    {
      "cell_type": "code",
      "source": [
        "model = Sequential()\n",
        "model.add(Dense(units=128, activation='relu', input_shape=(X_train.shape[1],))) #input layer\n",
        "model.add(Dense(units=64, activation='relu')) #hidden layer\n",
        "model.add(Dropout(0.2)),\n",
        "model.add(Dense(units=128, activation='relu')) #hidden layer\n",
        "model.add(Dropout(0.2)),\n",
        "model.add(Dense(units=1))  #output layer\n",
        "\n",
        "model.compile(optimizer='adam', loss='mean_squared_error', metrics=[metrics.RootMeanSquaredError()])\n",
        "\n",
        "#Chollet, F. 'Deep Learning with Python'"
      ],
      "metadata": {
        "id": "o1L_vrDcOWlX"
      },
      "execution_count": null,
      "outputs": []
    },
    {
      "cell_type": "markdown",
      "source": [
        "<h2><b> R.B.10 Training the Model</b></h2>\n",
        "<p> Training the model for 100 epochs using <i>model.fit()</i>\n",
        ". Epochs refer to each iteration or cycle the model being run. The batch size determined is 64, meaning, 64 units of data are input into the model during each epoch.A separate validation set is retrieved, which will give insights about the performance of the model being trained after every epoch.</p>"
      ],
      "metadata": {
        "id": "6VWpyQ_awhL5"
      }
    },
    {
      "cell_type": "code",
      "source": [
        "history = model.fit(X_train, y_train_scaled, epochs=100, batch_size=64, validation_data=(X_val, y_val_scaled))\n",
        "\n",
        "#Chollet, F. 'Deep Learning with Python'\n"
      ],
      "metadata": {
        "colab": {
          "base_uri": "https://localhost:8080/"
        },
        "id": "jMIaUdJTOanA",
        "outputId": "ad539d6d-2339-4d47-9d68-fd340c3141de"
      },
      "execution_count": null,
      "outputs": [
        {
          "output_type": "stream",
          "name": "stdout",
          "text": [
            "Epoch 1/100\n",
            "535/535 [==============================] - 2s 2ms/step - loss: 0.1958 - root_mean_squared_error: 0.4425 - val_loss: 8.5103e-04 - val_root_mean_squared_error: 0.0292\n",
            "Epoch 2/100\n",
            "535/535 [==============================] - 1s 2ms/step - loss: 8.3882e-04 - root_mean_squared_error: 0.0290 - val_loss: 5.7917e-04 - val_root_mean_squared_error: 0.0241\n",
            "Epoch 3/100\n",
            "535/535 [==============================] - 1s 2ms/step - loss: 6.3260e-04 - root_mean_squared_error: 0.0252 - val_loss: 5.7228e-04 - val_root_mean_squared_error: 0.0239\n",
            "Epoch 4/100\n",
            "535/535 [==============================] - 1s 2ms/step - loss: 6.2382e-04 - root_mean_squared_error: 0.0250 - val_loss: 5.7413e-04 - val_root_mean_squared_error: 0.0240\n",
            "Epoch 5/100\n",
            "535/535 [==============================] - 1s 2ms/step - loss: 6.2298e-04 - root_mean_squared_error: 0.0250 - val_loss: 5.6776e-04 - val_root_mean_squared_error: 0.0238\n",
            "Epoch 6/100\n",
            "535/535 [==============================] - 1s 2ms/step - loss: 6.2324e-04 - root_mean_squared_error: 0.0250 - val_loss: 5.6616e-04 - val_root_mean_squared_error: 0.0238\n",
            "Epoch 7/100\n",
            "535/535 [==============================] - 1s 2ms/step - loss: 6.2041e-04 - root_mean_squared_error: 0.0249 - val_loss: 5.7231e-04 - val_root_mean_squared_error: 0.0239\n",
            "Epoch 8/100\n",
            "535/535 [==============================] - 1s 2ms/step - loss: 6.1995e-04 - root_mean_squared_error: 0.0249 - val_loss: 5.6025e-04 - val_root_mean_squared_error: 0.0237\n",
            "Epoch 9/100\n",
            "535/535 [==============================] - 1s 2ms/step - loss: 6.2021e-04 - root_mean_squared_error: 0.0249 - val_loss: 5.6293e-04 - val_root_mean_squared_error: 0.0237\n",
            "Epoch 10/100\n",
            "535/535 [==============================] - 1s 2ms/step - loss: 6.2015e-04 - root_mean_squared_error: 0.0249 - val_loss: 5.6092e-04 - val_root_mean_squared_error: 0.0237\n",
            "Epoch 11/100\n",
            "535/535 [==============================] - 1s 2ms/step - loss: 6.1885e-04 - root_mean_squared_error: 0.0249 - val_loss: 5.5805e-04 - val_root_mean_squared_error: 0.0236\n",
            "Epoch 12/100\n",
            "535/535 [==============================] - 1s 3ms/step - loss: 6.1967e-04 - root_mean_squared_error: 0.0249 - val_loss: 5.4416e-04 - val_root_mean_squared_error: 0.0233\n",
            "Epoch 13/100\n",
            "535/535 [==============================] - 1s 2ms/step - loss: 6.1937e-04 - root_mean_squared_error: 0.0249 - val_loss: 5.5177e-04 - val_root_mean_squared_error: 0.0235\n",
            "Epoch 14/100\n",
            "535/535 [==============================] - 1s 2ms/step - loss: 6.1910e-04 - root_mean_squared_error: 0.0249 - val_loss: 5.4787e-04 - val_root_mean_squared_error: 0.0234\n",
            "Epoch 15/100\n",
            "535/535 [==============================] - 1s 2ms/step - loss: 6.1933e-04 - root_mean_squared_error: 0.0249 - val_loss: 5.5681e-04 - val_root_mean_squared_error: 0.0236\n",
            "Epoch 16/100\n",
            "535/535 [==============================] - 1s 2ms/step - loss: 6.2802e-04 - root_mean_squared_error: 0.0251 - val_loss: 5.6041e-04 - val_root_mean_squared_error: 0.0237\n",
            "Epoch 17/100\n",
            "535/535 [==============================] - 1s 2ms/step - loss: 6.2767e-04 - root_mean_squared_error: 0.0251 - val_loss: 5.7778e-04 - val_root_mean_squared_error: 0.0240\n",
            "Epoch 18/100\n",
            "535/535 [==============================] - 1s 2ms/step - loss: 6.2065e-04 - root_mean_squared_error: 0.0249 - val_loss: 5.6900e-04 - val_root_mean_squared_error: 0.0239\n",
            "Epoch 19/100\n",
            "535/535 [==============================] - 1s 2ms/step - loss: 6.3865e-04 - root_mean_squared_error: 0.0253 - val_loss: 5.8142e-04 - val_root_mean_squared_error: 0.0241\n",
            "Epoch 20/100\n",
            "535/535 [==============================] - 1s 2ms/step - loss: 6.2489e-04 - root_mean_squared_error: 0.0250 - val_loss: 5.7212e-04 - val_root_mean_squared_error: 0.0239\n",
            "Epoch 21/100\n",
            "535/535 [==============================] - 1s 2ms/step - loss: 6.2407e-04 - root_mean_squared_error: 0.0250 - val_loss: 5.5811e-04 - val_root_mean_squared_error: 0.0236\n",
            "Epoch 22/100\n",
            "535/535 [==============================] - 1s 2ms/step - loss: 6.2133e-04 - root_mean_squared_error: 0.0249 - val_loss: 5.4913e-04 - val_root_mean_squared_error: 0.0234\n",
            "Epoch 23/100\n",
            "535/535 [==============================] - 1s 2ms/step - loss: 6.2064e-04 - root_mean_squared_error: 0.0249 - val_loss: 5.4084e-04 - val_root_mean_squared_error: 0.0233\n",
            "Epoch 24/100\n",
            "535/535 [==============================] - 1s 2ms/step - loss: 6.2004e-04 - root_mean_squared_error: 0.0249 - val_loss: 5.5135e-04 - val_root_mean_squared_error: 0.0235\n",
            "Epoch 25/100\n",
            "535/535 [==============================] - 1s 2ms/step - loss: 6.2044e-04 - root_mean_squared_error: 0.0249 - val_loss: 5.5651e-04 - val_root_mean_squared_error: 0.0236\n",
            "Epoch 26/100\n",
            "535/535 [==============================] - 1s 2ms/step - loss: 6.2037e-04 - root_mean_squared_error: 0.0249 - val_loss: 5.5378e-04 - val_root_mean_squared_error: 0.0235\n",
            "Epoch 27/100\n",
            "535/535 [==============================] - 1s 2ms/step - loss: 6.1863e-04 - root_mean_squared_error: 0.0249 - val_loss: 5.6559e-04 - val_root_mean_squared_error: 0.0238\n",
            "Epoch 28/100\n",
            "535/535 [==============================] - 1s 2ms/step - loss: 6.1705e-04 - root_mean_squared_error: 0.0248 - val_loss: 5.5550e-04 - val_root_mean_squared_error: 0.0236\n",
            "Epoch 29/100\n",
            "535/535 [==============================] - 1s 3ms/step - loss: 6.2338e-04 - root_mean_squared_error: 0.0250 - val_loss: 5.4052e-04 - val_root_mean_squared_error: 0.0232\n",
            "Epoch 30/100\n",
            "535/535 [==============================] - 2s 3ms/step - loss: 6.3080e-04 - root_mean_squared_error: 0.0251 - val_loss: 5.3027e-04 - val_root_mean_squared_error: 0.0230\n",
            "Epoch 31/100\n",
            "535/535 [==============================] - 1s 2ms/step - loss: 6.2900e-04 - root_mean_squared_error: 0.0251 - val_loss: 5.6659e-04 - val_root_mean_squared_error: 0.0238\n",
            "Epoch 32/100\n",
            "535/535 [==============================] - 1s 2ms/step - loss: 6.2464e-04 - root_mean_squared_error: 0.0250 - val_loss: 5.6384e-04 - val_root_mean_squared_error: 0.0237\n",
            "Epoch 33/100\n",
            "535/535 [==============================] - 1s 2ms/step - loss: 6.2174e-04 - root_mean_squared_error: 0.0249 - val_loss: 5.5701e-04 - val_root_mean_squared_error: 0.0236\n",
            "Epoch 34/100\n",
            "535/535 [==============================] - 1s 2ms/step - loss: 6.1856e-04 - root_mean_squared_error: 0.0249 - val_loss: 5.4872e-04 - val_root_mean_squared_error: 0.0234\n",
            "Epoch 35/100\n",
            "535/535 [==============================] - 1s 2ms/step - loss: 6.1677e-04 - root_mean_squared_error: 0.0248 - val_loss: 5.5160e-04 - val_root_mean_squared_error: 0.0235\n",
            "Epoch 36/100\n",
            "535/535 [==============================] - 1s 2ms/step - loss: 6.1854e-04 - root_mean_squared_error: 0.0249 - val_loss: 5.4079e-04 - val_root_mean_squared_error: 0.0233\n",
            "Epoch 37/100\n",
            "535/535 [==============================] - 1s 2ms/step - loss: 6.2055e-04 - root_mean_squared_error: 0.0249 - val_loss: 5.5097e-04 - val_root_mean_squared_error: 0.0235\n",
            "Epoch 38/100\n",
            "535/535 [==============================] - 1s 2ms/step - loss: 6.2442e-04 - root_mean_squared_error: 0.0250 - val_loss: 5.4457e-04 - val_root_mean_squared_error: 0.0233\n",
            "Epoch 39/100\n",
            "535/535 [==============================] - 1s 2ms/step - loss: 6.1918e-04 - root_mean_squared_error: 0.0249 - val_loss: 5.3959e-04 - val_root_mean_squared_error: 0.0232\n",
            "Epoch 40/100\n",
            "535/535 [==============================] - 1s 2ms/step - loss: 6.1810e-04 - root_mean_squared_error: 0.0249 - val_loss: 5.3477e-04 - val_root_mean_squared_error: 0.0231\n",
            "Epoch 41/100\n",
            "535/535 [==============================] - 1s 2ms/step - loss: 6.1625e-04 - root_mean_squared_error: 0.0248 - val_loss: 5.4614e-04 - val_root_mean_squared_error: 0.0234\n",
            "Epoch 42/100\n",
            "535/535 [==============================] - 1s 2ms/step - loss: 6.1603e-04 - root_mean_squared_error: 0.0248 - val_loss: 5.4921e-04 - val_root_mean_squared_error: 0.0234\n",
            "Epoch 43/100\n",
            "535/535 [==============================] - 1s 2ms/step - loss: 6.1348e-04 - root_mean_squared_error: 0.0248 - val_loss: 5.4578e-04 - val_root_mean_squared_error: 0.0234\n",
            "Epoch 44/100\n",
            "535/535 [==============================] - 1s 2ms/step - loss: 6.1288e-04 - root_mean_squared_error: 0.0248 - val_loss: 5.4450e-04 - val_root_mean_squared_error: 0.0233\n",
            "Epoch 45/100\n",
            "535/535 [==============================] - 1s 2ms/step - loss: 6.1808e-04 - root_mean_squared_error: 0.0249 - val_loss: 5.5706e-04 - val_root_mean_squared_error: 0.0236\n",
            "Epoch 46/100\n",
            "535/535 [==============================] - 1s 2ms/step - loss: 6.1630e-04 - root_mean_squared_error: 0.0248 - val_loss: 5.3699e-04 - val_root_mean_squared_error: 0.0232\n",
            "Epoch 47/100\n",
            "535/535 [==============================] - 1s 2ms/step - loss: 6.1818e-04 - root_mean_squared_error: 0.0249 - val_loss: 5.4231e-04 - val_root_mean_squared_error: 0.0233\n",
            "Epoch 48/100\n",
            "535/535 [==============================] - 1s 2ms/step - loss: 6.1447e-04 - root_mean_squared_error: 0.0248 - val_loss: 5.6854e-04 - val_root_mean_squared_error: 0.0238\n",
            "Epoch 49/100\n",
            "535/535 [==============================] - 1s 2ms/step - loss: 6.1373e-04 - root_mean_squared_error: 0.0248 - val_loss: 5.4115e-04 - val_root_mean_squared_error: 0.0233\n",
            "Epoch 50/100\n",
            "535/535 [==============================] - 1s 2ms/step - loss: 6.1234e-04 - root_mean_squared_error: 0.0247 - val_loss: 5.2930e-04 - val_root_mean_squared_error: 0.0230\n",
            "Epoch 51/100\n",
            "535/535 [==============================] - 1s 2ms/step - loss: 6.1721e-04 - root_mean_squared_error: 0.0248 - val_loss: 5.5431e-04 - val_root_mean_squared_error: 0.0235\n",
            "Epoch 52/100\n",
            "535/535 [==============================] - 1s 2ms/step - loss: 6.1325e-04 - root_mean_squared_error: 0.0248 - val_loss: 5.3982e-04 - val_root_mean_squared_error: 0.0232\n",
            "Epoch 53/100\n",
            "535/535 [==============================] - 1s 2ms/step - loss: 6.1361e-04 - root_mean_squared_error: 0.0248 - val_loss: 5.3387e-04 - val_root_mean_squared_error: 0.0231\n",
            "Epoch 54/100\n",
            "535/535 [==============================] - 1s 3ms/step - loss: 6.1389e-04 - root_mean_squared_error: 0.0248 - val_loss: 5.4990e-04 - val_root_mean_squared_error: 0.0235\n",
            "Epoch 55/100\n",
            "535/535 [==============================] - 1s 3ms/step - loss: 6.1178e-04 - root_mean_squared_error: 0.0247 - val_loss: 5.6114e-04 - val_root_mean_squared_error: 0.0237\n",
            "Epoch 56/100\n",
            "535/535 [==============================] - 1s 2ms/step - loss: 6.1045e-04 - root_mean_squared_error: 0.0247 - val_loss: 5.2495e-04 - val_root_mean_squared_error: 0.0229\n",
            "Epoch 57/100\n",
            "535/535 [==============================] - 1s 2ms/step - loss: 6.1165e-04 - root_mean_squared_error: 0.0247 - val_loss: 5.3078e-04 - val_root_mean_squared_error: 0.0230\n",
            "Epoch 58/100\n",
            "535/535 [==============================] - 1s 2ms/step - loss: 6.1234e-04 - root_mean_squared_error: 0.0247 - val_loss: 5.4314e-04 - val_root_mean_squared_error: 0.0233\n",
            "Epoch 59/100\n",
            "535/535 [==============================] - 1s 2ms/step - loss: 6.1247e-04 - root_mean_squared_error: 0.0247 - val_loss: 5.2978e-04 - val_root_mean_squared_error: 0.0230\n",
            "Epoch 60/100\n",
            "535/535 [==============================] - 1s 2ms/step - loss: 6.1299e-04 - root_mean_squared_error: 0.0248 - val_loss: 5.3978e-04 - val_root_mean_squared_error: 0.0232\n",
            "Epoch 61/100\n",
            "535/535 [==============================] - 1s 2ms/step - loss: 6.1514e-04 - root_mean_squared_error: 0.0248 - val_loss: 5.4903e-04 - val_root_mean_squared_error: 0.0234\n",
            "Epoch 62/100\n",
            "535/535 [==============================] - 1s 2ms/step - loss: 6.1358e-04 - root_mean_squared_error: 0.0248 - val_loss: 5.3688e-04 - val_root_mean_squared_error: 0.0232\n",
            "Epoch 63/100\n",
            "535/535 [==============================] - 1s 2ms/step - loss: 6.2033e-04 - root_mean_squared_error: 0.0249 - val_loss: 5.4698e-04 - val_root_mean_squared_error: 0.0234\n",
            "Epoch 64/100\n",
            "535/535 [==============================] - 1s 2ms/step - loss: 6.1119e-04 - root_mean_squared_error: 0.0247 - val_loss: 5.2068e-04 - val_root_mean_squared_error: 0.0228\n",
            "Epoch 65/100\n",
            "535/535 [==============================] - 1s 2ms/step - loss: 6.1148e-04 - root_mean_squared_error: 0.0247 - val_loss: 5.4411e-04 - val_root_mean_squared_error: 0.0233\n",
            "Epoch 66/100\n",
            "535/535 [==============================] - 1s 2ms/step - loss: 6.1286e-04 - root_mean_squared_error: 0.0248 - val_loss: 5.3825e-04 - val_root_mean_squared_error: 0.0232\n",
            "Epoch 67/100\n",
            "535/535 [==============================] - 1s 2ms/step - loss: 6.1209e-04 - root_mean_squared_error: 0.0247 - val_loss: 5.2745e-04 - val_root_mean_squared_error: 0.0230\n",
            "Epoch 68/100\n",
            "535/535 [==============================] - 1s 2ms/step - loss: 6.1066e-04 - root_mean_squared_error: 0.0247 - val_loss: 5.2822e-04 - val_root_mean_squared_error: 0.0230\n",
            "Epoch 69/100\n",
            "535/535 [==============================] - 1s 2ms/step - loss: 6.1250e-04 - root_mean_squared_error: 0.0247 - val_loss: 5.3840e-04 - val_root_mean_squared_error: 0.0232\n",
            "Epoch 70/100\n",
            "535/535 [==============================] - 1s 2ms/step - loss: 6.1031e-04 - root_mean_squared_error: 0.0247 - val_loss: 5.6879e-04 - val_root_mean_squared_error: 0.0238\n",
            "Epoch 71/100\n",
            "535/535 [==============================] - 1s 2ms/step - loss: 6.1106e-04 - root_mean_squared_error: 0.0247 - val_loss: 5.4098e-04 - val_root_mean_squared_error: 0.0233\n",
            "Epoch 72/100\n",
            "535/535 [==============================] - 1s 2ms/step - loss: 6.0950e-04 - root_mean_squared_error: 0.0247 - val_loss: 5.4453e-04 - val_root_mean_squared_error: 0.0233\n",
            "Epoch 73/100\n",
            "535/535 [==============================] - 1s 2ms/step - loss: 6.1007e-04 - root_mean_squared_error: 0.0247 - val_loss: 5.3835e-04 - val_root_mean_squared_error: 0.0232\n",
            "Epoch 74/100\n",
            "535/535 [==============================] - 1s 2ms/step - loss: 6.1037e-04 - root_mean_squared_error: 0.0247 - val_loss: 5.4173e-04 - val_root_mean_squared_error: 0.0233\n",
            "Epoch 75/100\n",
            "535/535 [==============================] - 1s 2ms/step - loss: 6.1134e-04 - root_mean_squared_error: 0.0247 - val_loss: 5.4628e-04 - val_root_mean_squared_error: 0.0234\n",
            "Epoch 76/100\n",
            "535/535 [==============================] - 1s 2ms/step - loss: 6.1141e-04 - root_mean_squared_error: 0.0247 - val_loss: 5.1955e-04 - val_root_mean_squared_error: 0.0228\n",
            "Epoch 77/100\n",
            "535/535 [==============================] - 1s 2ms/step - loss: 6.1325e-04 - root_mean_squared_error: 0.0248 - val_loss: 5.3949e-04 - val_root_mean_squared_error: 0.0232\n",
            "Epoch 78/100\n",
            "535/535 [==============================] - 1s 2ms/step - loss: 6.1293e-04 - root_mean_squared_error: 0.0248 - val_loss: 5.3288e-04 - val_root_mean_squared_error: 0.0231\n",
            "Epoch 79/100\n",
            "535/535 [==============================] - 1s 2ms/step - loss: 6.1272e-04 - root_mean_squared_error: 0.0248 - val_loss: 5.4135e-04 - val_root_mean_squared_error: 0.0233\n",
            "Epoch 80/100\n",
            "535/535 [==============================] - 1s 2ms/step - loss: 6.1003e-04 - root_mean_squared_error: 0.0247 - val_loss: 5.5461e-04 - val_root_mean_squared_error: 0.0236\n",
            "Epoch 81/100\n",
            "535/535 [==============================] - 1s 2ms/step - loss: 6.0948e-04 - root_mean_squared_error: 0.0247 - val_loss: 5.3410e-04 - val_root_mean_squared_error: 0.0231\n",
            "Epoch 82/100\n",
            "535/535 [==============================] - 1s 2ms/step - loss: 6.0859e-04 - root_mean_squared_error: 0.0247 - val_loss: 5.2434e-04 - val_root_mean_squared_error: 0.0229\n",
            "Epoch 83/100\n",
            "535/535 [==============================] - 1s 2ms/step - loss: 6.0860e-04 - root_mean_squared_error: 0.0247 - val_loss: 5.2959e-04 - val_root_mean_squared_error: 0.0230\n",
            "Epoch 84/100\n",
            "535/535 [==============================] - 1s 2ms/step - loss: 6.0641e-04 - root_mean_squared_error: 0.0246 - val_loss: 5.2832e-04 - val_root_mean_squared_error: 0.0230\n",
            "Epoch 85/100\n",
            "535/535 [==============================] - 1s 2ms/step - loss: 6.0779e-04 - root_mean_squared_error: 0.0247 - val_loss: 5.4893e-04 - val_root_mean_squared_error: 0.0234\n",
            "Epoch 86/100\n",
            "535/535 [==============================] - 1s 2ms/step - loss: 6.0789e-04 - root_mean_squared_error: 0.0247 - val_loss: 5.4265e-04 - val_root_mean_squared_error: 0.0233\n",
            "Epoch 87/100\n",
            "535/535 [==============================] - 1s 2ms/step - loss: 6.0981e-04 - root_mean_squared_error: 0.0247 - val_loss: 5.3126e-04 - val_root_mean_squared_error: 0.0230\n",
            "Epoch 88/100\n",
            "535/535 [==============================] - 1s 2ms/step - loss: 6.0647e-04 - root_mean_squared_error: 0.0246 - val_loss: 5.2624e-04 - val_root_mean_squared_error: 0.0229\n",
            "Epoch 89/100\n",
            "535/535 [==============================] - 1s 2ms/step - loss: 6.0934e-04 - root_mean_squared_error: 0.0247 - val_loss: 5.5285e-04 - val_root_mean_squared_error: 0.0235\n",
            "Epoch 90/100\n",
            "535/535 [==============================] - 1s 2ms/step - loss: 6.0937e-04 - root_mean_squared_error: 0.0247 - val_loss: 5.3318e-04 - val_root_mean_squared_error: 0.0231\n",
            "Epoch 91/100\n",
            "535/535 [==============================] - 1s 2ms/step - loss: 6.0921e-04 - root_mean_squared_error: 0.0247 - val_loss: 5.2725e-04 - val_root_mean_squared_error: 0.0230\n",
            "Epoch 92/100\n",
            "535/535 [==============================] - 1s 2ms/step - loss: 6.0685e-04 - root_mean_squared_error: 0.0246 - val_loss: 5.4802e-04 - val_root_mean_squared_error: 0.0234\n",
            "Epoch 93/100\n",
            "535/535 [==============================] - 1s 2ms/step - loss: 6.0674e-04 - root_mean_squared_error: 0.0246 - val_loss: 5.3158e-04 - val_root_mean_squared_error: 0.0231\n",
            "Epoch 94/100\n",
            "535/535 [==============================] - 1s 2ms/step - loss: 6.0709e-04 - root_mean_squared_error: 0.0246 - val_loss: 5.3889e-04 - val_root_mean_squared_error: 0.0232\n",
            "Epoch 95/100\n",
            "535/535 [==============================] - 1s 2ms/step - loss: 6.0661e-04 - root_mean_squared_error: 0.0246 - val_loss: 5.2913e-04 - val_root_mean_squared_error: 0.0230\n",
            "Epoch 96/100\n",
            "535/535 [==============================] - 1s 2ms/step - loss: 6.0596e-04 - root_mean_squared_error: 0.0246 - val_loss: 5.4338e-04 - val_root_mean_squared_error: 0.0233\n",
            "Epoch 97/100\n",
            "535/535 [==============================] - 1s 2ms/step - loss: 6.0799e-04 - root_mean_squared_error: 0.0247 - val_loss: 5.4746e-04 - val_root_mean_squared_error: 0.0234\n",
            "Epoch 98/100\n",
            "535/535 [==============================] - 1s 2ms/step - loss: 6.0632e-04 - root_mean_squared_error: 0.0246 - val_loss: 5.2346e-04 - val_root_mean_squared_error: 0.0229\n",
            "Epoch 99/100\n",
            "535/535 [==============================] - 1s 2ms/step - loss: 6.0749e-04 - root_mean_squared_error: 0.0246 - val_loss: 5.3194e-04 - val_root_mean_squared_error: 0.0231\n",
            "Epoch 100/100\n",
            "535/535 [==============================] - 1s 2ms/step - loss: 6.0485e-04 - root_mean_squared_error: 0.0246 - val_loss: 5.4132e-04 - val_root_mean_squared_error: 0.0233\n"
          ]
        }
      ]
    },
    {
      "cell_type": "markdown",
      "source": [
        "<h2><b> R.B.11 Evaluation of Validation Loss </b></h2>\n",
        "\n",
        "Evaluating the model using the validation dataset which was exclusively reserved for this procedure."
      ],
      "metadata": {
        "id": "65kUpQzMw-Sl"
      }
    },
    {
      "cell_type": "code",
      "source": [
        "loss=model.evaluate(X_val, y_val_scaled)\n",
        "print(\"Validation loss:\", loss)\n",
        "\n",
        "#Chollet, F. 'Deep Learning with Python'"
      ],
      "metadata": {
        "colab": {
          "base_uri": "https://localhost:8080/"
        },
        "id": "VLMl_ixOOjqM",
        "outputId": "7480708d-c3fe-4f6f-8eca-0a4604b67486"
      },
      "execution_count": null,
      "outputs": [
        {
          "output_type": "stream",
          "name": "stdout",
          "text": [
            "230/230 [==============================] - 0s 963us/step - loss: 5.4132e-04 - root_mean_squared_error: 0.0233\n",
            "Validation loss: [0.000541317684110254, 0.02326623536646366]\n"
          ]
        }
      ]
    },
    {
      "cell_type": "code",
      "source": [
        "loss1=model.evaluate(X_train, y_train_scaled)\n",
        "print(\"Training Loss:\", loss1)\n",
        "\n",
        "#Chollet, F. 'Deep Learning with Python'"
      ],
      "metadata": {
        "colab": {
          "base_uri": "https://localhost:8080/"
        },
        "id": "r-GEbKGztgkA",
        "outputId": "491b1f17-1f63-45df-e2d2-ace6688e76cb"
      },
      "execution_count": null,
      "outputs": [
        {
          "output_type": "stream",
          "name": "stdout",
          "text": [
            "1070/1070 [==============================] - 1s 883us/step - loss: 6.0137e-04 - root_mean_squared_error: 0.0245\n",
            "Training Loss: [0.0006013703532516956, 0.024522854015231133]\n"
          ]
        }
      ]
    },
    {
      "cell_type": "code",
      "source": [
        "print_train_rmse = history.history['root_mean_squared_error'][-1]\n",
        "print_val_rmse = history.history['val_root_mean_squared_error'][-1]\n",
        "\n",
        "print('Consolidated Training RMSE:', print_train_rmse)\n",
        "print('Consolidated Validation RMSE:', print_val_rmse)"
      ],
      "metadata": {
        "colab": {
          "base_uri": "https://localhost:8080/"
        },
        "id": "fmar_oLdvmaO",
        "outputId": "a2067519-e5e9-4681-d954-5a0f1715db96"
      },
      "execution_count": null,
      "outputs": [
        {
          "output_type": "stream",
          "name": "stdout",
          "text": [
            "Consolidated Training RMSE: 0.02459360659122467\n",
            "Consolidated Validation RMSE: 0.02326623909175396\n"
          ]
        }
      ]
    },
    {
      "cell_type": "code",
      "source": [
        "loss2=model.evaluate(X_test, y_test_scaled)\n",
        "print(\"Test Loss:\", loss2)\n",
        "\n",
        "#Chollet, F. 'Deep Learning with Python'"
      ],
      "metadata": {
        "colab": {
          "base_uri": "https://localhost:8080/"
        },
        "id": "wtpgHUgztv2w",
        "outputId": "7050b2be-3649-45e4-fd6b-273a14b1a5ad"
      },
      "execution_count": null,
      "outputs": [
        {
          "output_type": "stream",
          "name": "stdout",
          "text": [
            "230/230 [==============================] - 0s 908us/step - loss: 6.2402e-04 - root_mean_squared_error: 0.0250\n",
            "Test Loss: [0.0006240169168449938, 0.02498033083975315]\n"
          ]
        }
      ]
    },
    {
      "cell_type": "markdown",
      "source": [
        "<h2><b>R.B.12 Results </h2></b>\n",
        "\n",
        "<p> The following plots explain the observations and insights gathered during the development of the model</p>"
      ],
      "metadata": {
        "id": "AKWxDDrPxLL9"
      }
    },
    {
      "cell_type": "code",
      "source": [
        "train_rmse = history.history['root_mean_squared_error']\n",
        "val_rmse = history.history['val_root_mean_squared_error']\n",
        "epochs = range(1, len(train_rmse) + 1)\n",
        "\n"
      ],
      "metadata": {
        "id": "pe6TwN56Omab",
        "colab": {
          "base_uri": "https://localhost:8080/"
        },
        "outputId": "856eea8a-6dfe-451d-fccd-cd29679ae59a"
      },
      "execution_count": null,
      "outputs": [
        {
          "output_type": "stream",
          "name": "stdout",
          "text": [
            "training rmse: [0.4424682855606079, 0.02896246500313282, 0.025151599198579788, 0.024976393207907677, 0.024959662929177284, 0.024964839220046997, 0.024908067658543587, 0.02489871345460415, 0.0249040350317955, 0.02490287460386753, 0.024876734241843224, 0.024893073365092278, 0.024887118488550186, 0.024881642311811447, 0.024886319413781166, 0.025060290470719337, 0.025053389370441437, 0.02491282857954502, 0.025271493941545486, 0.024997882544994354, 0.024981366470456123, 0.024926556274294853, 0.024912666529417038, 0.02490057982504368, 0.024908673018217087, 0.024907222017645836, 0.024872329086065292, 0.024840503931045532, 0.024967558681964874, 0.02511565200984478, 0.025079907849431038, 0.024992765858769417, 0.02493465319275856, 0.02487085573375225, 0.024834923446178436, 0.02487039752304554, 0.024910777807235718, 0.024988459423184395, 0.024883242323994637, 0.024861620739102364, 0.024824345484375954, 0.024819938465952873, 0.024768589064478874, 0.024756379425525665, 0.024861173704266548, 0.024825409054756165, 0.024863140657544136, 0.02478860318660736, 0.024773607030510902, 0.02474558725953102, 0.024843664839863777, 0.02476383186876774, 0.024771064519882202, 0.024776702746748924, 0.02473415434360504, 0.024707240983843803, 0.02473159320652485, 0.02474542148411274, 0.02474815957248211, 0.02475857175886631, 0.024801919236779213, 0.024770498275756836, 0.024906493723392487, 0.024722307920455933, 0.024728089570999146, 0.02475596033036709, 0.024740546941757202, 0.024711543694138527, 0.02474874258041382, 0.024704476818442345, 0.024719690904021263, 0.024687981233000755, 0.024699518457055092, 0.02470562420785427, 0.02472524717450142, 0.024726765230298042, 0.024763882160186768, 0.024757495149970055, 0.024753190577030182, 0.024698715656995773, 0.024687623605132103, 0.024669555947184563, 0.02466972917318344, 0.024625413119792938, 0.02465345710515976, 0.02465541660785675, 0.024694310501217842, 0.024626649916172028, 0.024684831500053406, 0.0246853269636631, 0.024682102724909782, 0.024634281173348427, 0.024632122367620468, 0.024639107286930084, 0.02462955191731453, 0.02461627498269081, 0.024657370522618294, 0.024623600766062737, 0.024647269397974014, 0.02459360659122467]\n"
          ]
        }
      ]
    },
    {
      "cell_type": "code",
      "source": [
        "import matplotlib.pyplot as plt\n",
        "\n",
        "plt.plot(epochs, train_rmse, 'b', label='Training RMSE')\n",
        "plt.plot(epochs, val_rmse, 'r', label='Validation RMSE')\n",
        "plt.title('Training and Validation RMSE')\n",
        "plt.xlabel('Epochs')\n",
        "plt.ylabel('RMSE')\n",
        "plt.legend()\n",
        "plt.show()"
      ],
      "metadata": {
        "colab": {
          "base_uri": "https://localhost:8080/",
          "height": 472
        },
        "id": "UV4kt7IFOpSo",
        "outputId": "5b52a49e-bc49-48d8-92c0-29a185b4e9d3"
      },
      "execution_count": null,
      "outputs": [
        {
          "output_type": "display_data",
          "data": {
            "text/plain": [
              "<Figure size 640x480 with 1 Axes>"
            ],
            "image/png": "[encoded data removed]"
          },
          "metadata": {}
        }
      ]
    },
    {
      "cell_type": "markdown",
      "source": [
        "<h2><b>R.B.13 Performance of the Model </b></h2>"
      ],
      "metadata": {
        "id": "jKN_b_Rnp0NC"
      }
    },
    {
      "cell_type": "code",
      "source": [
        "\n",
        "\n",
        "\n",
        "# Load the training and validation RMSEs\n",
        "training_rmse = train_rmse\n",
        "validation_rmse = val_rmse\n",
        "\n",
        "# Create the scatter plot\n",
        "plt.scatter(training_rmse, validation_rmse)\n",
        "\n",
        "# Add labels and title\n",
        "plt.xlabel(\"Training RMSE\")\n",
        "plt.ylabel(\"Validation RMSE\")\n",
        "plt.title(\"Scatter Plot of Training and Validation RMSEs\")\n",
        "\n",
        "# Show the plot\n",
        "plt.show()\n",
        "\n",
        "\n"
      ],
      "metadata": {
        "colab": {
          "base_uri": "https://localhost:8080/",
          "height": 472
        },
        "id": "ctqtBWns6gjG",
        "outputId": "11843b87-f64d-4db0-d588-d8acb7ccce36"
      },
      "execution_count": null,
      "outputs": [
        {
          "output_type": "display_data",
          "data": {
            "text/plain": [
              "<Figure size 640x480 with 1 Axes>"
            ],
            "image/png": "[encoded data removed]"
          },
          "metadata": {}
        }
      ]
    },
    {
      "cell_type": "code",
      "source": [
        "import matplotlib.pyplot as plt\n",
        "\n",
        "# Get model predictions on the test data\n",
        "y_pred_scaled = model.predict(X_test)\n",
        "y_pred = scaler.inverse_transform(y_pred_scaled)\n",
        "\n",
        "# Create a scatter plot of actual prices vs. predicted prices\n",
        "plt.figure(figsize=(10, 6))\n",
        "plt.scatter(y_test_scaled, y_pred)\n",
        "plt.title('Actual Prices vs. Predicted Prices')\n",
        "plt.xlabel('Actual Price')\n",
        "plt.ylabel('Predicted Price')\n",
        "plt.show()\n",
        "\n",
        "\n"
      ],
      "metadata": {
        "colab": {
          "base_uri": "https://localhost:8080/",
          "height": 440
        },
        "id": "jE5DlN7B7WaP",
        "outputId": "3a2cbef2-fbd0-4092-ea0a-5159287b2ed7"
      },
      "execution_count": null,
      "outputs": [
        {
          "output_type": "stream",
          "name": "stdout",
          "text": [
            "230/230 [==============================] - 0s 1ms/step\n"
          ]
        },
        {
          "output_type": "display_data",
          "data": {
            "text/plain": [
              "<Figure size 1000x600 with 1 Axes>"
            ],
            "image/png": "[encoded data removed]"
          },
          "metadata": {}
        }
      ]
    }
  ]
}