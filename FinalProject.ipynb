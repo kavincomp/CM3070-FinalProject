{
  "cells": [
    {
      "cell_type": "markdown",
      "metadata": {
        "id": "view-in-github",
        "colab_type": "text"
      },
      "source": [
        "<a href=\"https://colab.research.google.com/github/kavincomp/FinalProjectSentimentAnalysis/blob/main/FinalProject.ipynb\" target=\"_parent\"><img src=\"https://colab.research.google.com/assets/colab-badge.svg\" alt=\"Open In Colab\"/></a>"
      ]
    },
    {
      "cell_type": "markdown",
      "metadata": {
        "id": "ANfN-Z2iGNTs"
      },
      "source": [
        "\n",
        "<h1><center><b>CM3070 Final Project</b></center> </h1>\n",
        "\n",
        "<h2><center><b>Sentiment Analysis on the AirBnb Dataset</b></center></h2>\n"
      ]
    },
    {
      "cell_type": "markdown",
      "metadata": {
        "id": "cqV05ZjN7qtU"
      },
      "source": [
        "<h3> <b>R.A.1 Introduction</b> </h3>\n",
        "\n",
        "<p> This project, will explore on the sentiment analysis performed on the Boston AirBnb Dataset. The dataset, sourced from Kaggle, has a massive 68275 set of records with attributes such as listing_id, id, reviewer_name, reviewer_id and comments.  All non-English comments will be detected and removed during the data processing journey, and only English language comments will be utilised for training. Various libraries such as <i> Numpy, Pandas,NLTK, Fasttext,  Matplotlib, Scikit Learn, Keras, Tensorflow, Seaborn</i>  and their associated classes shall be used for this project work. </p>\n",
        "\n",
        "<p> The aim of this project is to create a robust deep learning model supported by the <i><b>GRU</b></i> neural network model architecture, that can predict the sentiment label i.e either positive, negative or neutral based on the on the usage of words and tone of the review made by the customer in the comments. The available data has been split on a 70 - 30 split , where the 70% will be used to train the model and the 30% to test the model. Though, it is straightforward in determining the sentiment using the compound scores, a deep learning model will shine in capturing intricate patterns, adapting to diverse data sources, and automating the extraction of nuanced features, thus enabling more accurate and contextually informed sentiment predictions for a wide array of text data.</p>"
      ]
    },
    {
      "cell_type": "markdown",
      "metadata": {
        "id": "rL-uoIZdFqiP"
      },
      "source": [
        "\n",
        "\n",
        "<h2><b> R.A.2 Importing the Necesssary Libraries</b> </h2>"
      ]
    },
    {
      "cell_type": "code",
      "execution_count": null,
      "metadata": {
        "id": "g5oJiuWKFGiI"
      },
      "outputs": [],
      "source": [
        "import pandas as pd\n",
        "import numpy as np\n",
        "import nltk\n",
        "from nltk.sentiment import SentimentIntensityAnalyzer\n",
        "from sklearn.model_selection import train_test_split\n",
        "from keras.preprocessing.text import Tokenizer\n",
        "from tensorflow.keras.preprocessing.sequence import pad_sequences\n",
        "from keras.models import Sequential\n",
        "from keras.layers import Embedding, GRU, Dense, Concatenate\n",
        "from keras.utils import to_categorical"
      ]
    },
    {
      "cell_type": "markdown",
      "metadata": {
        "id": "BoBjj_skLZcJ"
      },
      "source": [
        "\n",
        "<h2><b>R.A.3 Retrieving the dataset from Google Drive</b></h2>"
      ]
    },
    {
      "cell_type": "code",
      "execution_count": null,
      "metadata": {
        "colab": {
          "base_uri": "https://localhost:8080/"
        },
        "id": "ifvvXO_z-NbR",
        "outputId": "c133f312-2140-4cbf-cc05-eb8ffbef1c55"
      },
      "outputs": [
        {
          "output_type": "stream",
          "name": "stdout",
          "text": [
            "Mounted at /content/drive\n"
          ]
        }
      ],
      "source": [
        "from google.colab import drive\n",
        "drive.mount('/content/drive')"
      ]
    },
    {
      "cell_type": "code",
      "execution_count": null,
      "metadata": {
        "id": "y8ak8gE17VgL"
      },
      "outputs": [],
      "source": [
        "\n",
        "file_path = '/content/drive/My Drive/Colab Notebooks/SentimentAnalysis/reviews.csv'\n",
        "\n",
        "boston_data=pd.read_csv(file_path)\n"
      ]
    },
    {
      "cell_type": "markdown",
      "metadata": {
        "id": "9iGmeAQrMbL6"
      },
      "source": [
        "<h2><b>R.A.4 Exploratory Data Analysis & Data Preprocessing</b></h2>\n"
      ]
    },
    {
      "cell_type": "code",
      "execution_count": null,
      "metadata": {
        "colab": {
          "base_uri": "https://localhost:8080/"
        },
        "id": "JnH6-DU1JfoS",
        "outputId": "842c2048-c8bb-427b-f3a4-93d0006ea509"
      },
      "outputs": [
        {
          "output_type": "stream",
          "name": "stdout",
          "text": [
            "       listing_id        id        date  reviewer_id reviewer_name  \\\n",
            "0         1178162   4724140  2013-05-21      4298113       Olivier   \n",
            "1         1178162   4869189  2013-05-29      6452964     Charlotte   \n",
            "2         1178162   5003196  2013-06-06      6449554     Sebastian   \n",
            "3         1178162   5150351  2013-06-15      2215611        Marine   \n",
            "4         1178162   5171140  2013-06-16      6848427        Andrew   \n",
            "...           ...       ...         ...          ...           ...   \n",
            "68270     7462268  80537457  2016-06-18     22034145       Antonio   \n",
            "68271     7462268  83640094  2016-07-03     40052513         Steve   \n",
            "68272     7462268  85797088  2016-07-13     77129134          Nick   \n",
            "68273     7462268  97264637  2016-08-26     15799803           Vid   \n",
            "68274     7462268  98550693  2016-08-31     90128094       Arianna   \n",
            "\n",
            "                                                comments  \n",
            "0      My stay at islam's place was really cool! Good...  \n",
            "1      Great location for both airport and city - gre...  \n",
            "2      We really enjoyed our stay at Islams house. Fr...  \n",
            "3      The room was nice and clean and so were the co...  \n",
            "4      Great location. Just 5 mins walk from the Airp...  \n",
            "...                                                  ...  \n",
            "68270  Joe y su mujer son encantadores. La habitación...  \n",
            "68271  Joe was on his way to Jamaica to be married! o...  \n",
            "68272  The room was very clean as were the bathrooms ...  \n",
            "68273  Staying in Lower Allston at Joe and Nancy's pl...  \n",
            "68274  The room itself and the aprtment were very cle...  \n",
            "\n",
            "[68275 rows x 6 columns]\n"
          ]
        }
      ],
      "source": [
        "print(boston_data)"
      ]
    },
    {
      "cell_type": "markdown",
      "metadata": {
        "id": "ZF6tZeYDum4_"
      },
      "source": [
        "\n",
        "<h3><b> R.A.4.1 Natural Language Processing and Sentiment Scores </b></h3>\n",
        "<br>\n"
      ]
    },
    {
      "cell_type": "markdown",
      "metadata": {
        "id": "GQIxZl1jkSsX"
      },
      "source": [
        "<h4><b> R.A.4.1.1 Language Detection </b> </h4>\n",
        "<p> Using <i><b>fasttext</b></i> library, the language of the comment will be analysed and they will be assigned laguage labels. Example <i>__label__en</i> stands for English and <i>__label__fr</i> stands for French.</p>"
      ]
    },
    {
      "cell_type": "code",
      "execution_count": null,
      "metadata": {
        "colab": {
          "base_uri": "https://localhost:8080/"
        },
        "id": "4xOjzdS2vigZ",
        "outputId": "02571cd4-c978-4cb8-d406-971d597495b3"
      },
      "outputs": [
        {
          "output_type": "stream",
          "name": "stdout",
          "text": [
            "Collecting fasttext\n",
            "  Downloading fasttext-0.9.2.tar.gz (68 kB)\n",
            "\u001b[2K     \u001b[90m━━━━━━━━━━━━━━━━━━━━━━━━━━━━━━━━━━━━━━━━\u001b[0m \u001b[32m68.8/68.8 kB\u001b[0m \u001b[31m1.2 MB/s\u001b[0m eta \u001b[36m0:00:00\u001b[0m\n",
            "\u001b[?25h  Preparing metadata (setup.py) ... \u001b[?25l\u001b[?25hdone\n",
            "Collecting pybind11>=2.2 (from fasttext)\n",
            "  Using cached pybind11-2.11.1-py3-none-any.whl (227 kB)\n",
            "Requirement already satisfied: setuptools>=0.7.0 in /usr/local/lib/python3.10/dist-packages (from fasttext) (67.7.2)\n",
            "Requirement already satisfied: numpy in /usr/local/lib/python3.10/dist-packages (from fasttext) (1.23.5)\n",
            "Building wheels for collected packages: fasttext\n",
            "  Building wheel for fasttext (setup.py) ... \u001b[?25l\u001b[?25hdone\n",
            "  Created wheel for fasttext: filename=fasttext-0.9.2-cp310-cp310-linux_x86_64.whl size=4199772 sha256=4973a1b24ac93a5e4bc85ffdcc85547dca537bfcb8112f005b9a0f8fa76450eb\n",
            "  Stored in directory: /root/.cache/pip/wheels/a5/13/75/f811c84a8ab36eedbaef977a6a58a98990e8e0f1967f98f394\n",
            "Successfully built fasttext\n",
            "Installing collected packages: pybind11, fasttext\n",
            "Successfully installed fasttext-0.9.2 pybind11-2.11.1\n"
          ]
        }
      ],
      "source": [
        "pip install fasttext"
      ]
    },
    {
      "cell_type": "code",
      "execution_count": null,
      "metadata": {
        "colab": {
          "base_uri": "https://localhost:8080/"
        },
        "id": "nCNK1tRmwGEM",
        "outputId": "325e1179-4bd0-45c4-c7d6-7b3e577ac4b4"
      },
      "outputs": [
        {
          "output_type": "stream",
          "name": "stderr",
          "text": [
            "Warning : `load_model` does not return WordVectorModel or SupervisedModel any more, but a `FastText` object which is very similar.\n"
          ]
        }
      ],
      "source": [
        "import fasttext\n",
        "file_path2 = '/content/drive/My Drive/Colab Notebooks/SentimentAnalysis/lid.176.bin'\n",
        "\n",
        "model = fasttext.load_model(file_path2)"
      ]
    },
    {
      "cell_type": "markdown",
      "metadata": {
        "id": "Hk_SU4Frkz_c"
      },
      "source": [
        "\n",
        "<h5> <b>R.A.4.1.2 Removing NaN Values and Updating the Dataframe:</b> </h5>\n",
        "\n",
        "<p> NaN(Not a number) i.e the comment section fields not having any meaningful information. These values are necessarily to be removed during data analysis process. These values might affect the reliability of the model and disrupt the performance of the model.By removing them, the data becomes more consistent and suitable for analysis. </p>\n"
      ]
    },
    {
      "cell_type": "code",
      "execution_count": null,
      "metadata": {
        "id": "GgLBpiskwL1X"
      },
      "outputs": [],
      "source": [
        "boston_data = boston_data.dropna(subset=['comments'])"
      ]
    },
    {
      "cell_type": "markdown",
      "metadata": {
        "id": "LL2vuVpcOFJV"
      },
      "source": [
        "\n",
        "<h4> <b>R.A.4.1.3 Language Labelling:</b></h4>\n",
        "<p> An empty list named <i>\"language_list\"</i> is created which stores all the language labels predicted through the fasttext model. The \"language_list\" is then appended to the dataset as a new column named <i>'language'</i>. </p>"
      ]
    },
    {
      "cell_type": "code",
      "execution_count": null,
      "metadata": {
        "colab": {
          "base_uri": "https://localhost:8080/"
        },
        "id": "3mxpOnIy8m5Y",
        "outputId": "136e57be-5780-4153-b3c9-e3dea0f41ae8"
      },
      "outputs": [
        {
          "output_type": "stream",
          "name": "stdout",
          "text": [
            "                                            comments     language\n",
            "0  My stay at islam's place was really cool! Good...  __label__en\n",
            "1  Great location for both airport and city - gre...  __label__en\n",
            "2  We really enjoyed our stay at Islams house. Fr...  __label__en\n",
            "3  The room was nice and clean and so were the co...  __label__en\n",
            "4  Great location. Just 5 mins walk from the Airp...  __label__en\n",
            "5  A truely exeptional place to stay. The hosts a...  __label__en\n"
          ]
        }
      ],
      "source": [
        "language_list = []\n",
        "\n",
        "\n",
        "for comment in boston_data['comments']:\n",
        "  language_list.append(model.predict(comment.replace(\"\\n\",\"\"))[0][0])\n",
        "\n",
        "boston_data['language']=language_list\n",
        "\n",
        "print(boston_data[['comments'  , 'language']].head(6))\n"
      ]
    },
    {
      "cell_type": "markdown",
      "metadata": {
        "id": "lRUsxU6fjqez"
      },
      "source": [
        "<h3><b>R.A.4.1.4 Non English Comments</b>\n",
        " </h3>\n",
        "\n",
        "<p> Removal of  non-English comments is important in a sentiment analysis project to ensure the quality and accuracy of the analysis. Non-English comments  contain words, phrases, or sentiments that the model is not trained to understand, leading to misclassification, reduced performance and accuracy issues.<br> <br>With English being widely adopted language in the world, there is ample amount of data available regardless the removal of other language comments. With English comments, the model can better capture the sentiment nuances of the target language and provide more meaningful insights.</p>"
      ]
    },
    {
      "cell_type": "code",
      "execution_count": null,
      "metadata": {
        "colab": {
          "base_uri": "https://localhost:8080/"
        },
        "id": "RGeO881pE5FF",
        "outputId": "79829192-30b9-4bcf-f276-0954bd2f312f"
      },
      "outputs": [
        {
          "output_type": "stream",
          "name": "stdout",
          "text": [
            "     listing_id        id        date  reviewer_id reviewer_name  \\\n",
            "12      1178162   8372308  2013-10-28      8837991    Olga Maria   \n",
            "50      1178162  20020224  2014-09-22     18640669         Marie   \n",
            "55      1178162  20513074  2014-09-30      5536373     Kimberley   \n",
            "83      1178162  25051451  2015-01-05     24947394          Anna   \n",
            "121     1178162  35239731  2015-06-16     33981202     Catherine   \n",
            "\n",
            "                                              comments     language  \n",
            "12   Mi estadía en Boston aunque corta fue muy buen...  __label__es  \n",
            "50   La maison située dans East Boston était sympat...  __label__fr  \n",
            "55   De kamer wordt verhuurd via een \"self-check in...  __label__nl  \n",
            "83   Una casa muy acogedora, muy cerca (a menos de ...  __label__es  \n",
            "121  Izzy nous a fait sentir très bien dès notre ar...  __label__fr  \n",
            "\n",
            "Total no.of rows with Non-English language comments: 3570\n"
          ]
        }
      ],
      "source": [
        "non_en_comments = boston_data[boston_data['language'] != '__label__en']\n",
        "\n",
        "print(non_en_comments.head())\n",
        "print(\"\\nTotal no.of rows with Non-English language comments:\", non_en_comments.shape[0])\n"
      ]
    },
    {
      "cell_type": "code",
      "execution_count": null,
      "metadata": {
        "colab": {
          "base_uri": "https://localhost:8080/"
        },
        "id": "qijd2ehmI-t1",
        "outputId": "5d0ced39-7295-4f2b-9687-cccb6f52fe46"
      },
      "outputs": [
        {
          "output_type": "stream",
          "name": "stdout",
          "text": [
            "\n",
            "Total no. of rows: 64652\n",
            "\n",
            "Total no. of columns: 7\n",
            "   listing_id       id        date  reviewer_id reviewer_name  \\\n",
            "0     1178162  4724140  2013-05-21      4298113       Olivier   \n",
            "1     1178162  4869189  2013-05-29      6452964     Charlotte   \n",
            "2     1178162  5003196  2013-06-06      6449554     Sebastian   \n",
            "3     1178162  5150351  2013-06-15      2215611        Marine   \n",
            "4     1178162  5171140  2013-06-16      6848427        Andrew   \n",
            "\n",
            "                                            comments     language  \n",
            "0  My stay at islam's place was really cool! Good...  __label__en  \n",
            "1  Great location for both airport and city - gre...  __label__en  \n",
            "2  We really enjoyed our stay at Islams house. Fr...  __label__en  \n",
            "3  The room was nice and clean and so were the co...  __label__en  \n",
            "4  Great location. Just 5 mins walk from the Airp...  __label__en  \n"
          ]
        }
      ],
      "source": [
        "boston_data = boston_data[boston_data['language']=='__label__en']\n",
        "\n",
        "print(\"\\nTotal no. of rows:\",boston_data.shape[0])\n",
        "print(\"\\nTotal no. of columns:\",boston_data.shape[1])\n",
        "\n",
        "print(boston_data.head(  ))"
      ]
    },
    {
      "cell_type": "markdown",
      "metadata": {
        "id": "M45Qrco_yWol"
      },
      "source": [
        "<h3><b>R.A.5 Analysing Comment Sentiments</b> </h3>\n",
        "<p> <i> Using <b>Natural Language Tool Kit</b> </i> library's <i><b>SentimentIntensityAnalyzer()</b></i>, the sentiment of the comment will be analysed and scores will be assigned.</p>\n",
        "<p> <i><b>VADER</b></i> stands for <b>Valence Aware Dictionary and Sentiment Reasoner</b>. It is a pre built dictionary of words and their associated sentiment scores.</p>"
      ]
    },
    {
      "cell_type": "code",
      "execution_count": null,
      "metadata": {
        "colab": {
          "base_uri": "https://localhost:8080/"
        },
        "id": "c5JTPcprQNK1",
        "outputId": "9d9f4cd6-e24c-40c4-b131-fa29a060726e"
      },
      "outputs": [
        {
          "output_type": "stream",
          "name": "stderr",
          "text": [
            "[nltk_data] Downloading package vader_lexicon to /root/nltk_data...\n"
          ]
        }
      ],
      "source": [
        "nltk.download('vader_lexicon')\n",
        "sia = SentimentIntensityAnalyzer()\n",
        "\n",
        "#NLTK Vader Documentation"
      ]
    },
    {
      "cell_type": "markdown",
      "metadata": {
        "id": "k0tnOjpRydWN"
      },
      "source": [
        "<h4><b>R.A.5.1 Assigning Sentiment Scores</b> </h4>"
      ]
    },
    {
      "cell_type": "markdown",
      "metadata": {
        "id": "MCh1oytSQ1G4"
      },
      "source": [
        "<p> The <b><i>sia.polarity_scores()</i></b> function is applied, which returns a dictionary containing polarity scores (numerical values that indicate the proportion of the sentiment) for postive, negative, neutral and compound sentiments.</p> <br>\n",
        "<p> Compound Scores is a single numerical value that represent the overall sentiment of the text. In other words, its a value that combines the overall sentiment polarity scores(positive, negative and neutral). </p> <br>\n",
        "<li> The sentiment polarity scores range from -1(indicating extreme negative) to +1(indiciating extreme positive).</li>\n",
        "<li> These individual scores are then combined to calculate the compound scores by <b>VADER</b> of NLTK.</li>\n",
        "<b><li> Positive: Compound Score > 0.05</li> <li> Negative: Compound Score < -0.05 </li>\n",
        "<li> Neutral : Between -0.05 to +0.05 inclusive. </li></b>\n"
      ]
    },
    {
      "cell_type": "code",
      "execution_count": null,
      "metadata": {
        "id": "_pkXoxxPuxeL"
      },
      "outputs": [],
      "source": [
        "boston_data['sentiment_scores'] = boston_data['comments'].apply(lambda x: sia.polarity_scores(x))\n",
        "#NLTK Vader Documentation"
      ]
    },
    {
      "cell_type": "code",
      "execution_count": null,
      "metadata": {
        "colab": {
          "base_uri": "https://localhost:8080/"
        },
        "id": "YJoHBTUBuIl7",
        "outputId": "22082e5e-2de0-4432-d905-c59b111cf631"
      },
      "outputs": [
        {
          "output_type": "stream",
          "name": "stdout",
          "text": [
            "                                                comments  \\\n",
            "0      My stay at islam's place was really cool! Good...   \n",
            "1      Great location for both airport and city - gre...   \n",
            "2      We really enjoyed our stay at Islams house. Fr...   \n",
            "3      The room was nice and clean and so were the co...   \n",
            "4      Great location. Just 5 mins walk from the Airp...   \n",
            "...                                                  ...   \n",
            "68269  Wonderful location. Bus stop right at the corn...   \n",
            "68271  Joe was on his way to Jamaica to be married! o...   \n",
            "68272  The room was very clean as were the bathrooms ...   \n",
            "68273  Staying in Lower Allston at Joe and Nancy's pl...   \n",
            "68274  The room itself and the aprtment were very cle...   \n",
            "\n",
            "                                        sentiment_scores  \n",
            "0      {'neg': 0.0, 'neu': 0.648, 'pos': 0.352, 'comp...  \n",
            "1      {'neg': 0.0, 'neu': 0.639, 'pos': 0.361, 'comp...  \n",
            "2      {'neg': 0.0, 'neu': 0.767, 'pos': 0.233, 'comp...  \n",
            "3      {'neg': 0.0, 'neu': 0.673, 'pos': 0.327, 'comp...  \n",
            "4      {'neg': 0.0, 'neu': 0.637, 'pos': 0.363, 'comp...  \n",
            "...                                                  ...  \n",
            "68269  {'neg': 0.049, 'neu': 0.664, 'pos': 0.288, 'co...  \n",
            "68271  {'neg': 0.014, 'neu': 0.822, 'pos': 0.164, 'co...  \n",
            "68272  {'neg': 0.0, 'neu': 0.784, 'pos': 0.216, 'comp...  \n",
            "68273  {'neg': 0.014, 'neu': 0.759, 'pos': 0.226, 'co...  \n",
            "68274  {'neg': 0.0, 'neu': 0.755, 'pos': 0.245, 'comp...  \n",
            "\n",
            "[64652 rows x 2 columns]\n"
          ]
        }
      ],
      "source": [
        "print(boston_data[['comments','sentiment_scores']])"
      ]
    },
    {
      "cell_type": "markdown",
      "metadata": {
        "id": "S7Ss30i4w4na"
      },
      "source": [
        "\n",
        "\n",
        "<p>The following code snippe assigns the compound scores to the dataframe. </p>"
      ]
    },
    {
      "cell_type": "code",
      "execution_count": null,
      "metadata": {
        "id": "yMmY1TaCvEak"
      },
      "outputs": [],
      "source": [
        "boston_data['compound_score'] = boston_data['sentiment_scores'].apply(lambda x: x['compound'])"
      ]
    },
    {
      "cell_type": "markdown",
      "metadata": {
        "id": "-YkEs3_KUf5K"
      },
      "source": [
        "<h4><b>R.A.5.2 Updated dataset with Sentiment scores and Compound scores</b> </h4>"
      ]
    },
    {
      "cell_type": "code",
      "execution_count": null,
      "metadata": {
        "colab": {
          "base_uri": "https://localhost:8080/"
        },
        "id": "jLypUhoK0ogY",
        "outputId": "4c8ec1f8-1913-4b95-b363-2f9b4a9d0909"
      },
      "outputs": [
        {
          "output_type": "stream",
          "name": "stdout",
          "text": [
            "                                                comments  \\\n",
            "0      My stay at islam's place was really cool! Good...   \n",
            "1      Great location for both airport and city - gre...   \n",
            "2      We really enjoyed our stay at Islams house. Fr...   \n",
            "3      The room was nice and clean and so were the co...   \n",
            "4      Great location. Just 5 mins walk from the Airp...   \n",
            "...                                                  ...   \n",
            "68269  Wonderful location. Bus stop right at the corn...   \n",
            "68271  Joe was on his way to Jamaica to be married! o...   \n",
            "68272  The room was very clean as were the bathrooms ...   \n",
            "68273  Staying in Lower Allston at Joe and Nancy's pl...   \n",
            "68274  The room itself and the aprtment were very cle...   \n",
            "\n",
            "                                        sentiment_scores  compound_score  \n",
            "0      {'neg': 0.0, 'neu': 0.648, 'pos': 0.352, 'comp...          0.9626  \n",
            "1      {'neg': 0.0, 'neu': 0.639, 'pos': 0.361, 'comp...          0.9061  \n",
            "2      {'neg': 0.0, 'neu': 0.767, 'pos': 0.233, 'comp...          0.9663  \n",
            "3      {'neg': 0.0, 'neu': 0.673, 'pos': 0.327, 'comp...          0.9267  \n",
            "4      {'neg': 0.0, 'neu': 0.637, 'pos': 0.363, 'comp...          0.8658  \n",
            "...                                                  ...             ...  \n",
            "68269  {'neg': 0.049, 'neu': 0.664, 'pos': 0.288, 'co...          0.8955  \n",
            "68271  {'neg': 0.014, 'neu': 0.822, 'pos': 0.164, 'co...          0.9504  \n",
            "68272  {'neg': 0.0, 'neu': 0.784, 'pos': 0.216, 'comp...          0.9693  \n",
            "68273  {'neg': 0.014, 'neu': 0.759, 'pos': 0.226, 'co...          0.9957  \n",
            "68274  {'neg': 0.0, 'neu': 0.755, 'pos': 0.245, 'comp...          0.7564  \n",
            "\n",
            "[64652 rows x 3 columns]\n"
          ]
        }
      ],
      "source": [
        "print(boston_data[['comments', 'sentiment_scores', 'compound_score']])"
      ]
    },
    {
      "cell_type": "markdown",
      "metadata": {
        "id": "5QJyVYQB2yJy"
      },
      "source": [
        "<h3><b>R.A.6 Defining the Length of Sequences </b></h3>\n",
        "\n",
        "<p> <i>The max_words</i> variable determines the maximum vocabulary (unique words) size for training and <i>max_sequence_length</i> variable determines the maximum number of words in a sequence which is fed into the model. These values help in standardisation of the data being input into the model.</p><br>\n",
        "<p> <b> Example Sentence : \"The cat and the dog went on a walk.\"</b><br>.\n",
        "\n",
        "The above sentence has 9 words and 8 unique words( 'the' repeating twice). By specifying the max words, the most common unique words will be counted. Eg: if max_words = 7 then the 7 most common unique words will be counted and the eighth will be ignored. </p>\n",
        "<p> Assume, the sentence above is a sequence with max_sequence_length = 9. If the sequence length > 9, then the sequence will be truncated so all the inputs are of the same length. Similarly if the sequence length < 9, they will be padded. </p>\n",
        "\n",
        "<br>\n",
        "\n",
        "<p> The code below specifies the <b><i>max_words = 1000</i></b> and <b><i>max_sequence_length=100.</i></b></p>"
      ]
    },
    {
      "cell_type": "code",
      "execution_count": null,
      "metadata": {
        "id": "CLa0DjXnvQSr"
      },
      "outputs": [],
      "source": [
        "max_words = 1000\n",
        "max_sequence_length = 100"
      ]
    },
    {
      "cell_type": "markdown",
      "metadata": {
        "id": "WBv-95th3BDe"
      },
      "source": [
        "<h3><b>R.A.7 Tokenization</b></h3>\n",
        "<p> Tokenization is an important NLP task undertaken to break a sequence of text into token or smaller units.Words and subwords are typical example of tokens.</p>\n",
        "\n",
        "<p>Using the <b><i>Tokenizer</b></i> class of the Keras library, further processes the input data. The <b><i>num_words</b></i> parameter specifies the maximum number of words to keep in the vocabulary, (most frequent words). In this case <b><i>num_words = max_words</i></b>. The less frequent words are discarded. </p>\n",
        "\n",
        "<p>The <b><i>fit_on_texts</b></i> method takes a collection of data and learns the vocabulary by assigning unique integer index to each unique word. The frequency is also computed. This processing of the 'comments' data is for further processing, so that the data can be input into the model.</p>\n",
        "\n"
      ]
    },
    {
      "cell_type": "code",
      "execution_count": null,
      "metadata": {
        "id": "hqYMEvChvUjC"
      },
      "outputs": [],
      "source": [
        "tokenizer = Tokenizer(num_words=max_words)\n",
        "tokenizer.fit_on_texts(boston_data['comments'])\n",
        "\n",
        "#TensorFlow Documentation"
      ]
    },
    {
      "cell_type": "markdown",
      "metadata": {
        "id": "oogQHI7L6JSg"
      },
      "source": [
        "<h3><b>R.A.8 Preparation</b></h3>\n",
        "<li>Tokenizer processes the text data into numerical sequences (indices of vocabulary)</li>\n",
        "<li><b><i>pad_sequences()</b></i> takes the sequences obtained and pads them with zeros to ensure a uniform length not more than the max_sequence_length</li>\n",
        "<li>The last line of code reshape the compound sentiment scores  into a 2D array.Aligning the sentiment scores with its associated  text('comments')data </li>"
      ]
    },
    {
      "cell_type": "code",
      "execution_count": null,
      "metadata": {
        "id": "IhvnAOQHvY_A"
      },
      "outputs": [],
      "source": [
        "sequences = tokenizer.texts_to_sequences(boston_data['comments'])\n",
        "X_text = pad_sequences(sequences, maxlen=max_sequence_length)\n",
        "X_sentiment = boston_data['compound_score'].values.reshape(-1, 1)"
      ]
    },
    {
      "cell_type": "markdown",
      "metadata": {
        "id": "FfAg2Dbq6cj3"
      },
      "source": [
        "<h3><b>R.A.9 Assigning Sentiment Labels</b> </h3>\n",
        "\n",
        "<p> Assignment of sentiment labels either positive, negative or neutral based on the compoound sentiment scores.These sentiment labels will be the target variable ('y') the variables to which the inputs will be mapped.The range of compound scores and their associated sentiment labels have been explained in <b>Section R.A.5.1: Assigning Sentiment Scores</b> </p>"
      ]
    },
    {
      "cell_type": "code",
      "execution_count": null,
      "metadata": {
        "id": "oZ0F7XQKvdO0"
      },
      "outputs": [],
      "source": [
        "boston_data['sentiment_label'] = boston_data['compound_score'].apply(lambda score: 'positive' if score > 0 else ('negative' if score < 0 else 'neutral'))"
      ]
    },
    {
      "cell_type": "markdown",
      "metadata": {
        "id": "afkuHhz66_ug"
      },
      "source": [
        "<h3><b>R.A.10 Label Mapping and One-Hot Encoding</b></h3>\n",
        "<li><b><i>label_mapping</i></b> defines the mapping between sentiment labels and their associated numerical values. i.e <b><i>postive:0, neutral:1, negative:2</b></i>where the numbers represent the corresponding index numbers of the labels.</li>\n",
        "<li>The second line of code applies the label mapping to the sentiment labels column</li>\n",
        "<li>The last line of code performs one-hot encoding. Converts them to binary arrays of the format eg: [0,0,1] where 1 indicates the label index. This format is the suitable one for training the model.</li>"
      ]
    },
    {
      "cell_type": "code",
      "execution_count": null,
      "metadata": {
        "id": "rRave6tSvhsK"
      },
      "outputs": [],
      "source": [
        "label_mapping = {'positive': 0, 'neutral': 1, 'negative': 2}\n",
        "boston_data['sentiment_label'] = boston_data['sentiment_label'].map(label_mapping)\n",
        "y = to_categorical(boston_data['sentiment_label'], num_classes=3)\n"
      ]
    },
    {
      "cell_type": "markdown",
      "source": [
        "<h2><b>R.A.11 Model Development</b></h2>"
      ],
      "metadata": {
        "id": "JUKdCEx-MdoJ"
      }
    },
    {
      "cell_type": "markdown",
      "metadata": {
        "id": "-BmC37XQgPvE"
      },
      "source": [
        "\n",
        "<h2><b>R.A.11.1 Train and Test Data Split</b></h2>\n",
        "<p>Finally with the data being preprocessed, it  can be now fed into the model. It will be split into the ratio of 70-30 where 70% of the data will used for training and 30% will be used for testing which helps to evaluate the model.\n",
        "</p>\n",
        "\n"
      ]
    },
    {
      "cell_type": "code",
      "execution_count": null,
      "metadata": {
        "id": "dWIfoKF8vjmk"
      },
      "outputs": [],
      "source": [
        "X_text_train, X_text_test, X_sentiment_train, X_sentiment_test, y_train, y_test = train_test_split(X_text, X_sentiment, y, test_size=0.3, random_state=42)"
      ]
    },
    {
      "cell_type": "markdown",
      "metadata": {
        "id": "KsG-rvOCL_Rt"
      },
      "source": [
        "<h2><b>R.A.11.2 Building the Neural Network Model</b></h2>"
      ]
    },
    {
      "cell_type": "code",
      "execution_count": null,
      "metadata": {
        "id": "Bwp4exptvnfb"
      },
      "outputs": [],
      "source": [
        "from keras.layers import Input\n",
        "from keras.regularizers import l1,l2\n",
        "from keras.layers import Dropout\n",
        "from keras.layers import BatchNormalization"
      ]
    },
    {
      "cell_type": "markdown",
      "metadata": {
        "id": "hJZdtJrontfK"
      },
      "source": [
        "<li>The input layer is the layer where, the data is fed into the model.The shape parameter defines the length of the data that shall be input, i.e <i><b>max_sequence_length</i></b></li>\n",
        "<br>\n",
        "<li> An embedding layer is a fundamental component in NLP models. It transforms tokens into continuos vector representations, in other words, each words get mapped to numerical vectors which will represent the linguistic properties of the text.This helps the model to understand the semantics of the word and how they are associated with the other words of the sequence and its context with ease. <i><b>embedding_dim</i></b> specifies the embedding space, where these vectors will be represented.100 in this case, explains that the text data will be represented by a <b>vector of length 100</b>.</li>\n",
        "<b>Example Sentence : Dog Chased Cat </b>\n",
        "<p>Assume Embedding Dim = 2. These words will be represented by vectors of length 2. They are numerical values based on the linguistics of the word. Lets assume few hypothetical values.<li> 'cat' : [0.5, 0.3] </li>\n",
        "<li> 'chased' : [-0.2, 0.7] </li>\n",
        "<li> 'dog': [0.4, 0.2] </li>\n",
        "\n",
        "<p> In the above values of the three words, the reprsentation of vectors of dog and cat are closer than it is to chase. This displays the close semantic relationship between both such as being pets, animals and mammals. </p> <br>\n",
        "<li>The GRU output layer, then processes processes the embedded vectors, to learn about the data and capture its patterns and dependencies.</li>\n",
        "<br>\n",
        "<li> Dropout is a regularisation technique used to prevent overfitting. Overfitting is when, the model performs better in training dataset, and it fails to achieve the same accuracy in the test set as it did in training set. Dropping out involves, randomly dropping several neurons of the network, letting the network to learn more diverse patterns of the data. This improves generalisation of the model, not only performing well for the training dataset.</li>\n",
        "<br>\n",
        "<li> L1 and L2 are regularizers utilised in machine learning, to prevent overfitting of the models. When there are irrelvant or redundant features in the data, L1 regularisation may be used by adding penalty term to the loss function based on the absolute values of the weights.L1 encourages some coefficients to become zeroes which results in feature selection. This allows the data(features) which had been not observed well by the model to be considered by the model.<br>\n",
        "L2 regularisation techniques adds a penalty term based on the squared values of the model's weights. It makes coefficients to be small but not zero, unlike L1. Both L1 and L2 lead to better generalisation and reduce overfitting efficiently.</li>\n",
        "\n",
        "\n",
        "\n",
        "\n",
        "\n",
        "\n"
      ]
    },
    {
      "cell_type": "code",
      "execution_count": null,
      "metadata": {
        "id": "_8VC65fJvpX6"
      },
      "outputs": [],
      "source": [
        "embedding_dim = 100\n",
        "text_input = Input(shape=(max_sequence_length,), name='text_input')\n",
        "embedding_layer = Embedding(input_dim=max_words, output_dim=embedding_dim)(text_input)\n",
        "embedding_layer= Dropout(0.3)(embedding_layer)\n",
        "\n",
        "\n",
        "gru_output = GRU(64, kernel_regularizer=l1(0.01), recurrent_regularizer=l2(0.01))(embedding_layer)\n",
        "\n",
        "gru_output = Dropout(0.5)(gru_output)\n",
        "\n",
        "#KerasDocumentation-Layers-GRU\n",
        "#Chollet, F. 'Deep Learning with Python'"
      ]
    },
    {
      "cell_type": "markdown",
      "metadata": {
        "id": "wy-PoAeFUj9q"
      },
      "source": [
        "The <b><i>sentiment_input</i></b> represents the Input layer which will feed the model with the associated sentiment score of each comment."
      ]
    },
    {
      "cell_type": "code",
      "execution_count": null,
      "metadata": {
        "id": "3DjSOeE-vq02"
      },
      "outputs": [],
      "source": [
        "sentiment_input = Input(shape=(1,), name='sentiment_input')"
      ]
    },
    {
      "cell_type": "markdown",
      "metadata": {
        "id": "Nf7i_jP9U_oK"
      },
      "source": [
        "<p>The following layer concatenates, the <b><i>gru_output</i></b> and the <b><i>sentiment_input</b></i> . This allows to merge the comment data and its associated sentiment reprsentations into the subsequent `layers of the model.</p>"
      ]
    },
    {
      "cell_type": "code",
      "execution_count": null,
      "metadata": {
        "id": "jm5cvdsfvs4x"
      },
      "outputs": [],
      "source": [
        "concatenated = Concatenate()([gru_output, sentiment_input])"
      ]
    },
    {
      "cell_type": "markdown",
      "metadata": {
        "id": "L0p722CcVwio"
      },
      "source": [
        "\n",
        "<p>A hidden layer is a set of interconnected neurons accompanied with an activation function.They are responsible for processing and transforming the fed data.  The following is a dense hidden layer with 64 neurons. It receives the output from the concatenated layer and utilises the activation function named <b><i>'relu'</b></i>and produces the output. A dropout rate of 0.5 has been determined for regularisation.  </p>"
      ]
    },
    {
      "cell_type": "code",
      "execution_count": null,
      "metadata": {
        "id": "K80dMP7yFEwS"
      },
      "outputs": [],
      "source": [
        "hidden_layer1=Dense(64,activation='relu')(concatenated)\n",
        "hidden_layer1=Dropout(0.5)(hidden_layer1)\n",
        "\n",
        "\n",
        "##hidden_layer2=Dense(64, activation='relu')(hidden_layer1)\n",
        "##hidden_layer2=Dropout(0.5)(hidden_layer2)\n",
        "\n",
        "##hidden_layer3=Dense(64, activation='relu')(hidden_layer2)\n",
        "##hidden_layer3=Dropout(0.25)(hidden_layer3)\n",
        "\n",
        "\n",
        "#Chollet, F. 'Deep Learning with Python'"
      ]
    },
    {
      "cell_type": "markdown",
      "metadata": {
        "id": "kkWriOoCXybc"
      },
      "source": [
        "<p> The <b><i>output_layer</b></i> is the final layer of the model. It is connected to <b><i>hidden_layer1</b></i> and is a dense layer. The number <b>3</b> corresponds to the number of neurons, which specifies the number of classes in the problem (i.e postive, neutral and negative). The activation function <b><i>'softmax'</b></i> ensures the output is bneing normalised into a probability distribution over the classes.It is usually used in multi-class classifications. </p>"
      ]
    },
    {
      "cell_type": "code",
      "execution_count": null,
      "metadata": {
        "id": "56yz-TZavu3n"
      },
      "outputs": [],
      "source": [
        " output_layer = Dense(3, activation='softmax')(hidden_layer1)\n"
      ]
    },
    {
      "cell_type": "markdown",
      "metadata": {
        "id": "gWh6CE-7ZUIo"
      },
      "source": [
        "<p> The following code defined the model architecture using the functional Keras API. It defined the input layer and the input to be accepted, and its output.</p>"
      ]
    },
    {
      "cell_type": "code",
      "execution_count": null,
      "metadata": {
        "id": "JMFlM9qPvxnd"
      },
      "outputs": [],
      "source": [
        "\n",
        "from keras.models import Model"
      ]
    },
    {
      "cell_type": "code",
      "execution_count": null,
      "metadata": {
        "id": "_CkUuyUzvyx2"
      },
      "outputs": [],
      "source": [
        "model = Model(inputs=[text_input, sentiment_input], outputs=output_layer)\n"
      ]
    },
    {
      "cell_type": "markdown",
      "metadata": {
        "id": "EAT7jsG47J8q"
      },
      "source": [
        "<h3><b>R.A.11.3 Optimizers and Learning Rates</b></h3>\n",
        "<p> Optimizers are crucial to minimise the loss of the model during its deployment. Addtionally, the <b>learning_rate</b> is a hyperparamter that determines the size of the adjustments that shall be made by the optimizer in each iteration. In this model, the '<b>Adam</b>' optimizer is being used. Adam stands for <i>Adaptive Moment Estimation</i>. It functions by deploying adaptive elearning rates and momentum</p>"
      ]
    },
    {
      "cell_type": "code",
      "execution_count": null,
      "metadata": {
        "id": "LamksA_r8SXO"
      },
      "outputs": [],
      "source": [
        "from keras.optimizers import Adam\n",
        "from keras.optimizers import SGD\n",
        "\n",
        "learning_rate = 0.01\n",
        "optimizer = Adam(learning_rate=learning_rate)"
      ]
    },
    {
      "cell_type": "markdown",
      "metadata": {
        "id": "sgcXtDNZ7Qox"
      },
      "source": [
        "\n",
        "<h3><b>R.A.11.4 Compiling the Model</b></h3>\n",
        "<li>The optimizer is defined as Adam</li>\n",
        "<li>The loss 'categorical_crossentropy' measure the difference between predicted and actual values.</li>\n",
        "<li>The model performance is evaluated based on its Accuracy of prediction.</li>"
      ]
    },
    {
      "cell_type": "code",
      "execution_count": null,
      "metadata": {
        "id": "qXXb3J-Yv02A"
      },
      "outputs": [],
      "source": [
        "model.compile(optimizer='Adam', loss='categorical_crossentropy', metrics=['accuracy'])\n",
        "\n",
        "#Chollet, F. 'Deep Learning with Python'\n"
      ]
    },
    {
      "cell_type": "markdown",
      "metadata": {
        "id": "GKDJqg4JEkqg"
      },
      "source": [
        "<h3><b>R.A.11.5 Regularizer - Early Stopping </b></h3>\n",
        "\n",
        "<p>Early Stopping is a regularization technique which stops the training if the validation loss does not improve. During the course of training , the validation loss tend to drop, showing that the model is improving its performance. If it doesnt , the <i><b>early_stopping</i></b> callback, interrupts the training and stops. This way, overfitting is prevented.The patience parameter determines the threshold from which the callback can begin its interruption, if needed. </p>"
      ]
    },
    {
      "cell_type": "code",
      "execution_count": null,
      "metadata": {
        "id": "7HDPaVptCFqi"
      },
      "outputs": [],
      "source": [
        "from keras.callbacks import EarlyStopping\n",
        "\n",
        "early_stopping = EarlyStopping(monitor='val_loss', patience = 75, restore_best_weights=True)\n",
        "\n",
        "#KerasDocumentation-EarlyStopping"
      ]
    },
    {
      "cell_type": "markdown",
      "metadata": {
        "id": "D6bjv5HVgigF"
      },
      "source": [
        "\n",
        "<h3><b>R.A.11.6 Learning Rate Scheduler</b> </h3>\n",
        "<p> A learning rate scheduler, enables to dynamically adjust the learning rate of the model. It fine tunes the learning rate based on the training process , allowing the model to reach a better solution. This method supports with an improved training efficiency.</p>"
      ]
    },
    {
      "cell_type": "code",
      "execution_count": null,
      "metadata": {
        "id": "LvexmWpBH_Fa"
      },
      "outputs": [],
      "source": [
        "from keras.callbacks import LearningRateScheduler\n",
        "\n",
        "def lr_schedule(epoch, lr):\n",
        "\n",
        "    if epoch < 10:\n",
        "       return lr\n",
        "    else:\n",
        "       return lr * 0.1 if epoch < 75 else lr * 0.01\n",
        "\n",
        "\n",
        "lr_scheduler = LearningRateScheduler(lr_schedule)\n",
        "\n",
        "#KerasDocumentation-LR Scheduler"
      ]
    },
    {
      "cell_type": "markdown",
      "metadata": {
        "id": "8iLsIpWvMUVn"
      },
      "source": [
        "<h1><b> R.A.12 Training the Model </b></h1>\n",
        "\n",
        "<p> With the architecture and configurations of the model being set, the model shall perform its training.</p>\n",
        "\n",
        "<li>'epochs' stands for the number of cycle of iterations, the data will be processed through the model. The epoch is being set as 100.</li>\n",
        "<li>Batch Size = 128, explains that, 128 samples will be used for training, in a single cycle. After processing 128 samples, the models weights are being adjusted and updated accordingly.</li>\n",
        "<li>The training data will be further split into training and validation data. The model will train itself with the training data and evaluate its perfomance through the validation set. Validation sets are crucial, as they help to identify signs of overfitting in the model. It assists in the evaluation and assessment of the model,and helps it to generalize to unseen data.</li>"
      ]
    },
    {
      "cell_type": "code",
      "execution_count": null,
      "metadata": {
        "colab": {
          "base_uri": "https://localhost:8080/"
        },
        "id": "dEMM7Qisv4Nu",
        "outputId": "26cf4ac3-58d6-4c50-dcca-c99e81b6bd0d"
      },
      "outputs": [
        {
          "output_type": "stream",
          "name": "stdout",
          "text": [
            "Epoch 1/100\n",
            "283/283 [==============================] - 33s 82ms/step - loss: 2.7648 - accuracy: 0.9472 - val_loss: 0.0934 - val_accuracy: 0.9755 - lr: 0.0010\n",
            "Epoch 2/100\n",
            "283/283 [==============================] - 5s 18ms/step - loss: 0.0861 - accuracy: 0.9776 - val_loss: 0.0562 - val_accuracy: 0.9969 - lr: 0.0010\n",
            "Epoch 3/100\n",
            "283/283 [==============================] - 3s 11ms/step - loss: 0.0626 - accuracy: 0.9856 - val_loss: 0.0468 - val_accuracy: 0.9962 - lr: 0.0010\n",
            "Epoch 4/100\n",
            "283/283 [==============================] - 5s 16ms/step - loss: 0.0543 - accuracy: 0.9893 - val_loss: 0.0426 - val_accuracy: 0.9956 - lr: 0.0010\n",
            "Epoch 5/100\n",
            "283/283 [==============================] - 3s 11ms/step - loss: 0.0476 - accuracy: 0.9924 - val_loss: 0.0395 - val_accuracy: 0.9949 - lr: 0.0010\n",
            "Epoch 6/100\n",
            "283/283 [==============================] - 3s 10ms/step - loss: 0.0449 - accuracy: 0.9930 - val_loss: 0.0376 - val_accuracy: 0.9958 - lr: 0.0010\n",
            "Epoch 7/100\n",
            "283/283 [==============================] - 3s 12ms/step - loss: 0.0421 - accuracy: 0.9945 - val_loss: 0.0359 - val_accuracy: 0.9964 - lr: 0.0010\n",
            "Epoch 8/100\n",
            "283/283 [==============================] - 4s 12ms/step - loss: 0.0400 - accuracy: 0.9952 - val_loss: 0.0347 - val_accuracy: 0.9964 - lr: 0.0010\n",
            "Epoch 9/100\n",
            "283/283 [==============================] - 3s 9ms/step - loss: 0.0384 - accuracy: 0.9951 - val_loss: 0.0339 - val_accuracy: 0.9966 - lr: 0.0010\n",
            "Epoch 10/100\n",
            "283/283 [==============================] - 3s 9ms/step - loss: 0.0374 - accuracy: 0.9962 - val_loss: 0.0332 - val_accuracy: 0.9967 - lr: 0.0010\n",
            "Epoch 11/100\n",
            "283/283 [==============================] - 3s 9ms/step - loss: 0.0169 - accuracy: 0.9962 - val_loss: 0.0126 - val_accuracy: 0.9967 - lr: 1.0000e-04\n",
            "Epoch 12/100\n",
            "283/283 [==============================] - 4s 13ms/step - loss: 0.0141 - accuracy: 0.9963 - val_loss: 0.0105 - val_accuracy: 0.9967 - lr: 1.0000e-05\n",
            "Epoch 13/100\n",
            "283/283 [==============================] - 4s 13ms/step - loss: 0.0139 - accuracy: 0.9962 - val_loss: 0.0103 - val_accuracy: 0.9967 - lr: 1.0000e-06\n",
            "Epoch 14/100\n",
            "283/283 [==============================] - 2s 9ms/step - loss: 0.0137 - accuracy: 0.9964 - val_loss: 0.0103 - val_accuracy: 0.9967 - lr: 1.0000e-07\n",
            "Epoch 15/100\n",
            "283/283 [==============================] - 3s 10ms/step - loss: 0.0138 - accuracy: 0.9962 - val_loss: 0.0103 - val_accuracy: 0.9967 - lr: 1.0000e-08\n",
            "Epoch 16/100\n",
            "283/283 [==============================] - 3s 10ms/step - loss: 0.0139 - accuracy: 0.9964 - val_loss: 0.0103 - val_accuracy: 0.9967 - lr: 1.0000e-09\n",
            "Epoch 17/100\n",
            "283/283 [==============================] - 4s 14ms/step - loss: 0.0139 - accuracy: 0.9961 - val_loss: 0.0103 - val_accuracy: 0.9967 - lr: 1.0000e-10\n",
            "Epoch 18/100\n",
            "283/283 [==============================] - 4s 14ms/step - loss: 0.0138 - accuracy: 0.9962 - val_loss: 0.0103 - val_accuracy: 0.9967 - lr: 1.0000e-11\n",
            "Epoch 19/100\n",
            "283/283 [==============================] - 2s 9ms/step - loss: 0.0138 - accuracy: 0.9959 - val_loss: 0.0103 - val_accuracy: 0.9967 - lr: 1.0000e-12\n",
            "Epoch 20/100\n",
            "283/283 [==============================] - 3s 10ms/step - loss: 0.0140 - accuracy: 0.9963 - val_loss: 0.0103 - val_accuracy: 0.9967 - lr: 1.0000e-13\n",
            "Epoch 21/100\n",
            "283/283 [==============================] - 4s 14ms/step - loss: 0.0134 - accuracy: 0.9965 - val_loss: 0.0103 - val_accuracy: 0.9967 - lr: 1.0000e-14\n",
            "Epoch 22/100\n",
            "283/283 [==============================] - 3s 11ms/step - loss: 0.0139 - accuracy: 0.9960 - val_loss: 0.0103 - val_accuracy: 0.9967 - lr: 1.0000e-15\n",
            "Epoch 23/100\n",
            "283/283 [==============================] - 3s 9ms/step - loss: 0.0137 - accuracy: 0.9962 - val_loss: 0.0103 - val_accuracy: 0.9967 - lr: 1.0000e-16\n",
            "Epoch 24/100\n",
            "283/283 [==============================] - 3s 10ms/step - loss: 0.0138 - accuracy: 0.9963 - val_loss: 0.0103 - val_accuracy: 0.9967 - lr: 1.0000e-17\n",
            "Epoch 25/100\n",
            "283/283 [==============================] - 3s 10ms/step - loss: 0.0140 - accuracy: 0.9959 - val_loss: 0.0103 - val_accuracy: 0.9967 - lr: 1.0000e-18\n",
            "Epoch 26/100\n",
            "283/283 [==============================] - 3s 12ms/step - loss: 0.0138 - accuracy: 0.9961 - val_loss: 0.0103 - val_accuracy: 0.9967 - lr: 1.0000e-19\n",
            "Epoch 27/100\n",
            "283/283 [==============================] - 3s 10ms/step - loss: 0.0137 - accuracy: 0.9964 - val_loss: 0.0103 - val_accuracy: 0.9967 - lr: 1.0000e-20\n",
            "Epoch 28/100\n",
            "283/283 [==============================] - 3s 9ms/step - loss: 0.0139 - accuracy: 0.9960 - val_loss: 0.0103 - val_accuracy: 0.9967 - lr: 1.0000e-21\n",
            "Epoch 29/100\n",
            "283/283 [==============================] - 3s 9ms/step - loss: 0.0143 - accuracy: 0.9959 - val_loss: 0.0103 - val_accuracy: 0.9967 - lr: 1.0000e-22\n",
            "Epoch 30/100\n",
            "283/283 [==============================] - 3s 10ms/step - loss: 0.0134 - accuracy: 0.9961 - val_loss: 0.0103 - val_accuracy: 0.9967 - lr: 1.0000e-23\n",
            "Epoch 31/100\n",
            "283/283 [==============================] - 4s 14ms/step - loss: 0.0140 - accuracy: 0.9963 - val_loss: 0.0103 - val_accuracy: 0.9967 - lr: 1.0000e-24\n",
            "Epoch 32/100\n",
            "283/283 [==============================] - 3s 10ms/step - loss: 0.0141 - accuracy: 0.9959 - val_loss: 0.0103 - val_accuracy: 0.9967 - lr: 1.0000e-25\n",
            "Epoch 33/100\n",
            "283/283 [==============================] - 3s 9ms/step - loss: 0.0137 - accuracy: 0.9963 - val_loss: 0.0103 - val_accuracy: 0.9967 - lr: 1.0000e-26\n",
            "Epoch 34/100\n",
            "283/283 [==============================] - 3s 9ms/step - loss: 0.0142 - accuracy: 0.9962 - val_loss: 0.0103 - val_accuracy: 0.9967 - lr: 1.0000e-27\n",
            "Epoch 35/100\n",
            "283/283 [==============================] - 3s 11ms/step - loss: 0.0141 - accuracy: 0.9962 - val_loss: 0.0103 - val_accuracy: 0.9967 - lr: 1.0000e-28\n",
            "Epoch 36/100\n",
            "283/283 [==============================] - 3s 12ms/step - loss: 0.0137 - accuracy: 0.9962 - val_loss: 0.0103 - val_accuracy: 0.9967 - lr: 1.0000e-29\n",
            "Epoch 37/100\n",
            "283/283 [==============================] - 3s 9ms/step - loss: 0.0136 - accuracy: 0.9962 - val_loss: 0.0103 - val_accuracy: 0.9967 - lr: 1.0000e-30\n",
            "Epoch 38/100\n",
            "283/283 [==============================] - 2s 9ms/step - loss: 0.0137 - accuracy: 0.9962 - val_loss: 0.0103 - val_accuracy: 0.9967 - lr: 1.0000e-31\n",
            "Epoch 39/100\n",
            "283/283 [==============================] - 3s 10ms/step - loss: 0.0143 - accuracy: 0.9961 - val_loss: 0.0103 - val_accuracy: 0.9967 - lr: 1.0000e-32\n",
            "Epoch 40/100\n",
            "283/283 [==============================] - 3s 11ms/step - loss: 0.0137 - accuracy: 0.9963 - val_loss: 0.0103 - val_accuracy: 0.9967 - lr: 1.0000e-33\n",
            "Epoch 41/100\n",
            "283/283 [==============================] - 3s 11ms/step - loss: 0.0138 - accuracy: 0.9965 - val_loss: 0.0103 - val_accuracy: 0.9967 - lr: 1.0000e-34\n",
            "Epoch 42/100\n",
            "283/283 [==============================] - 3s 9ms/step - loss: 0.0144 - accuracy: 0.9961 - val_loss: 0.0103 - val_accuracy: 0.9967 - lr: 1.0000e-35\n",
            "Epoch 43/100\n",
            "283/283 [==============================] - 3s 9ms/step - loss: 0.0140 - accuracy: 0.9963 - val_loss: 0.0103 - val_accuracy: 0.9967 - lr: 1.0000e-36\n",
            "Epoch 44/100\n",
            "283/283 [==============================] - 3s 9ms/step - loss: 0.0139 - accuracy: 0.9963 - val_loss: 0.0103 - val_accuracy: 0.9967 - lr: 1.0000e-37\n",
            "Epoch 45/100\n",
            "283/283 [==============================] - 3s 11ms/step - loss: 0.0137 - accuracy: 0.9961 - val_loss: 0.0103 - val_accuracy: 0.9967 - lr: 1.0000e-38\n",
            "Epoch 46/100\n",
            "283/283 [==============================] - 3s 11ms/step - loss: 0.0140 - accuracy: 0.9963 - val_loss: 0.0103 - val_accuracy: 0.9967 - lr: 1.0000e-39\n",
            "Epoch 47/100\n",
            "283/283 [==============================] - 3s 9ms/step - loss: 0.0140 - accuracy: 0.9963 - val_loss: 0.0103 - val_accuracy: 0.9967 - lr: 9.9999e-41\n",
            "Epoch 48/100\n",
            "283/283 [==============================] - 3s 10ms/step - loss: 0.0139 - accuracy: 0.9963 - val_loss: 0.0103 - val_accuracy: 0.9967 - lr: 9.9997e-42\n",
            "Epoch 49/100\n",
            "283/283 [==============================] - 2s 9ms/step - loss: 0.0141 - accuracy: 0.9959 - val_loss: 0.0103 - val_accuracy: 0.9967 - lr: 1.0005e-42\n",
            "Epoch 50/100\n",
            "283/283 [==============================] - 4s 13ms/step - loss: 0.0140 - accuracy: 0.9962 - val_loss: 0.0103 - val_accuracy: 0.9967 - lr: 9.9492e-44\n",
            "Epoch 51/100\n",
            "283/283 [==============================] - 3s 10ms/step - loss: 0.0136 - accuracy: 0.9964 - val_loss: 0.0103 - val_accuracy: 0.9967 - lr: 9.8091e-45\n",
            "Epoch 52/100\n",
            "283/283 [==============================] - 3s 9ms/step - loss: 0.0136 - accuracy: 0.9966 - val_loss: 0.0103 - val_accuracy: 0.9967 - lr: 1.4013e-45\n",
            "Epoch 53/100\n",
            "283/283 [==============================] - 2s 9ms/step - loss: 0.0141 - accuracy: 0.9962 - val_loss: 0.0103 - val_accuracy: 0.9967 - lr: 0.0000e+00\n",
            "Epoch 54/100\n",
            "283/283 [==============================] - 3s 9ms/step - loss: 0.0136 - accuracy: 0.9964 - val_loss: 0.0103 - val_accuracy: 0.9967 - lr: 0.0000e+00\n",
            "Epoch 55/100\n",
            "283/283 [==============================] - 4s 13ms/step - loss: 0.0140 - accuracy: 0.9963 - val_loss: 0.0103 - val_accuracy: 0.9967 - lr: 0.0000e+00\n",
            "Epoch 56/100\n",
            "283/283 [==============================] - 3s 9ms/step - loss: 0.0141 - accuracy: 0.9961 - val_loss: 0.0103 - val_accuracy: 0.9967 - lr: 0.0000e+00\n",
            "Epoch 57/100\n",
            "283/283 [==============================] - 3s 9ms/step - loss: 0.0142 - accuracy: 0.9958 - val_loss: 0.0103 - val_accuracy: 0.9967 - lr: 0.0000e+00\n",
            "Epoch 58/100\n",
            "283/283 [==============================] - 3s 9ms/step - loss: 0.0140 - accuracy: 0.9959 - val_loss: 0.0103 - val_accuracy: 0.9967 - lr: 0.0000e+00\n",
            "Epoch 59/100\n",
            "283/283 [==============================] - 3s 10ms/step - loss: 0.0141 - accuracy: 0.9960 - val_loss: 0.0103 - val_accuracy: 0.9967 - lr: 0.0000e+00\n",
            "Epoch 60/100\n",
            "283/283 [==============================] - 3s 12ms/step - loss: 0.0137 - accuracy: 0.9961 - val_loss: 0.0103 - val_accuracy: 0.9967 - lr: 0.0000e+00\n",
            "Epoch 61/100\n",
            "283/283 [==============================] - 3s 9ms/step - loss: 0.0140 - accuracy: 0.9962 - val_loss: 0.0103 - val_accuracy: 0.9967 - lr: 0.0000e+00\n",
            "Epoch 62/100\n",
            "283/283 [==============================] - 3s 10ms/step - loss: 0.0140 - accuracy: 0.9961 - val_loss: 0.0103 - val_accuracy: 0.9967 - lr: 0.0000e+00\n",
            "Epoch 63/100\n",
            "283/283 [==============================] - 3s 10ms/step - loss: 0.0138 - accuracy: 0.9963 - val_loss: 0.0103 - val_accuracy: 0.9967 - lr: 0.0000e+00\n",
            "Epoch 64/100\n",
            "283/283 [==============================] - 3s 11ms/step - loss: 0.0143 - accuracy: 0.9959 - val_loss: 0.0103 - val_accuracy: 0.9967 - lr: 0.0000e+00\n",
            "Epoch 65/100\n",
            "283/283 [==============================] - 3s 12ms/step - loss: 0.0139 - accuracy: 0.9962 - val_loss: 0.0103 - val_accuracy: 0.9967 - lr: 0.0000e+00\n",
            "Epoch 66/100\n",
            "283/283 [==============================] - 3s 9ms/step - loss: 0.0142 - accuracy: 0.9960 - val_loss: 0.0103 - val_accuracy: 0.9967 - lr: 0.0000e+00\n",
            "Epoch 67/100\n",
            "283/283 [==============================] - 3s 9ms/step - loss: 0.0141 - accuracy: 0.9961 - val_loss: 0.0103 - val_accuracy: 0.9967 - lr: 0.0000e+00\n",
            "Epoch 68/100\n",
            "283/283 [==============================] - 3s 9ms/step - loss: 0.0132 - accuracy: 0.9961 - val_loss: 0.0103 - val_accuracy: 0.9967 - lr: 0.0000e+00\n",
            "Epoch 69/100\n",
            "283/283 [==============================] - 3s 11ms/step - loss: 0.0144 - accuracy: 0.9957 - val_loss: 0.0103 - val_accuracy: 0.9967 - lr: 0.0000e+00\n",
            "Epoch 70/100\n",
            "283/283 [==============================] - 3s 11ms/step - loss: 0.0136 - accuracy: 0.9965 - val_loss: 0.0103 - val_accuracy: 0.9967 - lr: 0.0000e+00\n",
            "Epoch 71/100\n",
            "283/283 [==============================] - 2s 9ms/step - loss: 0.0143 - accuracy: 0.9962 - val_loss: 0.0103 - val_accuracy: 0.9967 - lr: 0.0000e+00\n",
            "Epoch 72/100\n",
            "283/283 [==============================] - 3s 9ms/step - loss: 0.0136 - accuracy: 0.9960 - val_loss: 0.0103 - val_accuracy: 0.9967 - lr: 0.0000e+00\n",
            "Epoch 73/100\n",
            "283/283 [==============================] - 3s 9ms/step - loss: 0.0143 - accuracy: 0.9961 - val_loss: 0.0103 - val_accuracy: 0.9967 - lr: 0.0000e+00\n",
            "Epoch 74/100\n",
            "283/283 [==============================] - 3s 11ms/step - loss: 0.0137 - accuracy: 0.9964 - val_loss: 0.0103 - val_accuracy: 0.9967 - lr: 0.0000e+00\n",
            "Epoch 75/100\n",
            "283/283 [==============================] - 3s 11ms/step - loss: 0.0138 - accuracy: 0.9962 - val_loss: 0.0103 - val_accuracy: 0.9967 - lr: 0.0000e+00\n",
            "Epoch 76/100\n",
            "283/283 [==============================] - 3s 9ms/step - loss: 0.0141 - accuracy: 0.9956 - val_loss: 0.0103 - val_accuracy: 0.9967 - lr: 0.0000e+00\n",
            "Epoch 77/100\n",
            "283/283 [==============================] - 3s 9ms/step - loss: 0.0136 - accuracy: 0.9962 - val_loss: 0.0103 - val_accuracy: 0.9967 - lr: 0.0000e+00\n",
            "Epoch 78/100\n",
            "283/283 [==============================] - 3s 9ms/step - loss: 0.0138 - accuracy: 0.9964 - val_loss: 0.0103 - val_accuracy: 0.9967 - lr: 0.0000e+00\n",
            "Epoch 79/100\n",
            "283/283 [==============================] - 3s 12ms/step - loss: 0.0134 - accuracy: 0.9964 - val_loss: 0.0103 - val_accuracy: 0.9967 - lr: 0.0000e+00\n",
            "Epoch 80/100\n",
            "283/283 [==============================] - 3s 10ms/step - loss: 0.0133 - accuracy: 0.9965 - val_loss: 0.0103 - val_accuracy: 0.9967 - lr: 0.0000e+00\n",
            "Epoch 81/100\n",
            "283/283 [==============================] - 3s 9ms/step - loss: 0.0134 - accuracy: 0.9964 - val_loss: 0.0103 - val_accuracy: 0.9967 - lr: 0.0000e+00\n",
            "Epoch 82/100\n",
            "283/283 [==============================] - 2s 9ms/step - loss: 0.0139 - accuracy: 0.9961 - val_loss: 0.0103 - val_accuracy: 0.9967 - lr: 0.0000e+00\n",
            "Epoch 83/100\n",
            "283/283 [==============================] - 3s 9ms/step - loss: 0.0140 - accuracy: 0.9960 - val_loss: 0.0103 - val_accuracy: 0.9967 - lr: 0.0000e+00\n",
            "Epoch 84/100\n",
            "283/283 [==============================] - 4s 13ms/step - loss: 0.0137 - accuracy: 0.9964 - val_loss: 0.0103 - val_accuracy: 0.9967 - lr: 0.0000e+00\n",
            "Epoch 85/100\n",
            "283/283 [==============================] - 3s 10ms/step - loss: 0.0140 - accuracy: 0.9959 - val_loss: 0.0103 - val_accuracy: 0.9967 - lr: 0.0000e+00\n",
            "Epoch 86/100\n",
            "283/283 [==============================] - 3s 9ms/step - loss: 0.0135 - accuracy: 0.9964 - val_loss: 0.0103 - val_accuracy: 0.9967 - lr: 0.0000e+00\n",
            "Epoch 87/100\n",
            "283/283 [==============================] - 3s 9ms/step - loss: 0.0140 - accuracy: 0.9959 - val_loss: 0.0103 - val_accuracy: 0.9967 - lr: 0.0000e+00\n",
            "Epoch 88/100\n",
            "283/283 [==============================] - 3s 9ms/step - loss: 0.0139 - accuracy: 0.9962 - val_loss: 0.0103 - val_accuracy: 0.9967 - lr: 0.0000e+00\n",
            "Epoch 89/100\n",
            "283/283 [==============================] - 4s 13ms/step - loss: 0.0140 - accuracy: 0.9961 - val_loss: 0.0103 - val_accuracy: 0.9967 - lr: 0.0000e+00\n",
            "Epoch 90/100\n",
            "283/283 [==============================] - 3s 10ms/step - loss: 0.0140 - accuracy: 0.9961 - val_loss: 0.0103 - val_accuracy: 0.9967 - lr: 0.0000e+00\n",
            "Epoch 91/100\n",
            "283/283 [==============================] - 3s 9ms/step - loss: 0.0140 - accuracy: 0.9964 - val_loss: 0.0103 - val_accuracy: 0.9967 - lr: 0.0000e+00\n",
            "Epoch 92/100\n",
            "283/283 [==============================] - 3s 9ms/step - loss: 0.0139 - accuracy: 0.9962 - val_loss: 0.0103 - val_accuracy: 0.9967 - lr: 0.0000e+00\n",
            "Epoch 93/100\n",
            "283/283 [==============================] - 3s 10ms/step - loss: 0.0136 - accuracy: 0.9962 - val_loss: 0.0103 - val_accuracy: 0.9967 - lr: 0.0000e+00\n"
          ]
        }
      ],
      "source": [
        "history = model.fit([X_text_train, X_sentiment_train], y_train, epochs=100 , batch_size=128, validation_split=0.2, callbacks=[early_stopping, lr_scheduler])\n",
        "\n",
        "\n",
        "#Chollet, F. 'Deep Learning with Python'\n"
      ]
    },
    {
      "cell_type": "markdown",
      "metadata": {
        "id": "4R6ZlDIUgtYL"
      },
      "source": [
        "<h3><b>R.A.13 Visualising the Model </b></h3>\n",
        "\n",
        "<p> The following illustration describes the architecture of the model. </p>\n"
      ]
    },
    {
      "cell_type": "code",
      "execution_count": null,
      "metadata": {
        "colab": {
          "base_uri": "https://localhost:8080/",
          "height": 856
        },
        "id": "zBb2KmM0SZj-",
        "outputId": "24560979-7850-4403-fd90-408a4dca99b5"
      },
      "outputs": [
        {
          "output_type": "execute_result",
          "data": {
            "image/png": "[encoded data removed]",
            "text/plain": [
              "<IPython.core.display.Image object>"
            ]
          },
          "metadata": {},
          "execution_count": 35
        }
      ],
      "source": [
        "from keras.utils import plot_model\n",
        "model_picture = Model(inputs=[text_input, sentiment_input], outputs=output_layer)\n",
        "plot_model(model, to_file='model_architecture.png', show_shapes=False, show_layer_names=True)"
      ]
    },
    {
      "cell_type": "markdown",
      "metadata": {
        "id": "J7AdGlpGQJju"
      },
      "source": [
        "<h2><b>R.A.14 Learning Rate Scheduler Graph</b></h2>\n",
        "\n",
        "<p> The learning rate scheduler dynamically adjusts the learning rate in accordance with the varying performance(loss, accuracy) of the training. The following plot describes how the learning_rate was adjusted through the course of the training journey, to achieve the optimized performance. </p>`"
      ]
    },
    {
      "cell_type": "code",
      "execution_count": null,
      "metadata": {
        "colab": {
          "base_uri": "https://localhost:8080/",
          "height": 472
        },
        "id": "8J5-K-KDQE13",
        "outputId": "b27fc0c6-1d82-486a-adfc-e0f4021d292a"
      },
      "outputs": [
        {
          "output_type": "display_data",
          "data": {
            "text/plain": [
              "<Figure size 640x480 with 1 Axes>"
            ],
            "image/png": "[encoded data removed]"
          },
          "metadata": {}
        }
      ],
      "source": [
        "import matplotlib.pyplot as plt\n",
        "lr = 0.1\n",
        "num_epochs = 100\n",
        "learning_rates = [lr_schedule(epoch, lr) for epoch in range(num_epochs)]\n",
        "\n",
        "plt.plot(range(100 ), learning_rates)\n",
        "plt.xlabel('Epoch')\n",
        "plt.ylabel('Learning Rate')\n",
        "plt.title('Learning Rate Schedule')\n",
        "plt.show()\n",
        "\n"
      ]
    },
    {
      "cell_type": "markdown",
      "source": [
        "<h2><b>R.A.15 Results</b></h2>"
      ],
      "metadata": {
        "id": "irvXaI8AO2i7"
      }
    },
    {
      "cell_type": "markdown",
      "metadata": {
        "id": "Ub9oKkoUg3hz"
      },
      "source": [
        "<h3> <b>R.A.15.1 Training  vs Validation :  Accuracy and Loss </b></h3>\n"
      ]
    },
    {
      "cell_type": "code",
      "execution_count": null,
      "metadata": {
        "colab": {
          "base_uri": "https://localhost:8080/"
        },
        "id": "sSF0HQ1zd3Q7",
        "outputId": "7b1982af-c3e4-483c-c96d-b358749701a2"
      },
      "outputs": [
        {
          "output_type": "stream",
          "name": "stdout",
          "text": [
            "Training Loss: 0.0136, Training Accuracy: 0.9962\n",
            "Validation Loss: 0.0103, Validation Accuracy: 0.9967\n"
          ]
        }
      ],
      "source": [
        "train_loss = history.history['loss'][-1]\n",
        "train_accuracy = history.history['accuracy'][-1]\n",
        "val_loss = history.history['val_loss'][-1]\n",
        "val_accuracy = history.history['val_accuracy'][-1]\n",
        "\n",
        "print(f'Training Loss: {train_loss:.4f}, Training Accuracy: {train_accuracy:.4f}')\n",
        "print(f'Validation Loss: {val_loss:.4f}, Validation Accuracy: {val_accuracy:.4f}')\n"
      ]
    },
    {
      "cell_type": "markdown",
      "metadata": {
        "id": "6gEKWaaR7aqc"
      },
      "source": [
        "<h2><b>R.A.15.2 Training vs Validation Graphs </b></h2>\n",
        "<p> The following plots illustrate the accuracy and loss curves retrived from the performance of the model over the training and validation sets.The validation accuracy has been consistent, the training accuracy curve falls below the validation curve.Moreover the graphs doesnt display any signs of overfitting.The loss curves represents the loss being less than 0.5 and being consistent.The accuracy graph displays a desired performance output of the model powered by the robust neural network model along with contributions of the regularizers and callbacks and configurations. The loss curves represents the loss being less than 0.5 and being consistent. </p>"
      ]
    },
    {
      "cell_type": "code",
      "execution_count": null,
      "metadata": {
        "colab": {
          "base_uri": "https://localhost:8080/",
          "height": 507
        },
        "id": "-46VI-2k4UEN",
        "outputId": "957250f0-7ba2-4cac-bd53-f71f6d7a8e3b"
      },
      "outputs": [
        {
          "output_type": "display_data",
          "data": {
            "text/plain": [
              "<Figure size 1000x500 with 2 Axes>"
            ],
            "image/png": "[encoded data removed]"
          },
          "metadata": {}
        }
      ],
      "source": [
        "\n",
        " import matplotlib.pyplot as plt\n",
        "\n",
        "# Assuming you have already defined the variables train_loss, train_accuracy, val_loss, and val_accuracy\n",
        "\n",
        "# Plot training and validation loss\n",
        "plt.figure(figsize=(10, 5))\n",
        "plt.subplot(1, 2, 1)\n",
        "plt.plot(history.history['loss'], label='Training Loss')\n",
        "plt.plot(history.history['val_loss'], label='Validation Loss')\n",
        "plt.title('Training and Validation Loss')\n",
        "plt.xlabel('Epoch')\n",
        "plt.ylabel('Loss')\n",
        "plt.legend()\n",
        "\n",
        "# Plot training and validation accuracy\n",
        "plt.subplot(1, 2, 2)\n",
        "plt.plot(history.history['accuracy'], label='Training Accuracy')\n",
        "plt.plot(history.history['val_accuracy'], label='Validation Accuracy')\n",
        "plt.title('Training and Validation Accuracy')\n",
        "plt.xlabel('Epoch')\n",
        "plt.ylabel('Accuracy')\n",
        "plt.legend()\n",
        "\n",
        "plt.tight_layout()\n",
        "plt.show()\n"
      ]
    },
    {
      "cell_type": "markdown",
      "metadata": {
        "id": "N_dWNeNog_sI"
      },
      "source": [
        "<h3> <b>R.A.16 Fitting The Model with the Test Set</b> </h3>\n",
        "<p> With the observed , training and validation accuracies, now the model is suitable to be tested on a test set. The test set is 30% of the original data and was separated in the initial steps of training during the model setup. </p>\n"
      ]
    },
    {
      "cell_type": "code",
      "execution_count": null,
      "metadata": {
        "colab": {
          "base_uri": "https://localhost:8080/"
        },
        "id": "3j6zT6BVIxVE",
        "outputId": "bd2b4c65-74e8-42bc-9a8c-98d83b381b74"
      },
      "outputs": [
        {
          "output_type": "stream",
          "name": "stdout",
          "text": [
            "152/152 [==============================] - 1s 4ms/step - loss: 0.0100 - accuracy: 0.9975\n",
            "Test Loss: 0.0100, Test Accuracy: 0.9975\n"
          ]
        }
      ],
      "source": [
        "loss, accuracy = model.evaluate([X_text_test, X_sentiment_test], y_test, batch_size=128)\n",
        "print(f'Test Loss: {loss:.4f}, Test Accuracy: {accuracy:.4f}')\n"
      ]
    },
    {
      "cell_type": "markdown",
      "metadata": {
        "id": "cDagA1sKiZ_5"
      },
      "source": [
        "<h3> <b>R.A.17 Confusion Matrix</b> </h3>\n",
        "<p> The confusion matric displays the performance of the classfication model on the test set\n",
        "which was developed above. It represents: <br>\n",
        "<li>True Positives : Predicted positive and is actually positive.</li>\n",
        "<li>False Positives: Predicted Positive but is negative</li>\n",
        "<li>True Negatives: Predicted negative and is actually negative.</li>\n",
        "<li>False Negatives: Predicted Negative but is actually positive."
      ]
    },
    {
      "cell_type": "code",
      "execution_count": null,
      "metadata": {
        "colab": {
          "base_uri": "https://localhost:8080/",
          "height": 587
        },
        "id": "lUGXr-VvwIi3",
        "outputId": "96bef588-d4b8-4362-ce28-9d27104c7812"
      },
      "outputs": [
        {
          "output_type": "stream",
          "name": "stdout",
          "text": [
            "607/607 [==============================] - 3s 4ms/step\n"
          ]
        },
        {
          "output_type": "display_data",
          "data": {
            "text/plain": [
              "<Figure size 800x600 with 2 Axes>"
            ],
            "image/png": "[encoded data removed]"
          },
          "metadata": {}
        }
      ],
      "source": [
        "#confusion matrix code\n",
        "\n",
        "import seaborn as sns\n",
        "from sklearn.metrics import confusion_matrix\n",
        "\n",
        "# Predict sentiment labels for the test dataset\n",
        "y_pred = model.predict([X_text_test, X_sentiment_test])\n",
        "y_pred_classes = np.argmax(y_pred, axis=1)  # Convert probabilities to class labels\n",
        "\n",
        "# Create confusion matrix\n",
        "conf_matrix = confusion_matrix(np.argmax(y_test, axis=1), y_pred_classes)\n",
        "\n",
        "# Define class labels\n",
        "class_labels = ['Positive', 'Neutral', 'Negative']\n",
        "\n",
        "#defining the plot\n",
        "# Plot confusion matrix\n",
        "plt.figure(figsize=(8, 6))\n",
        "sns.heatmap(conf_matrix, annot=True, fmt='d', cmap='Blues', xticklabels=class_labels, yticklabels=class_labels)\n",
        "plt.xlabel('Predicted', fontsize=14, fontweight='bold')\n",
        "\n",
        "plt.ylabel('True', fontsize=14, fontweight='bold')\n",
        "plt.title('Confusion Matrix')\n",
        "plt.show()\n"
      ]
    }
  ],
  "metadata": {
    "accelerator": "GPU",
    "colab": {
      "provenance": [],
      "gpuType": "V100",
      "authorship_tag": "ABX9TyOyOXf+mo3gb0U8Z8mc1nRx",
      "include_colab_link": true
    },
    "kernelspec": {
      "display_name": "Python 3",
      "name": "python3"
    },
    "language_info": {
      "name": "python"
    }
  },
  "nbformat": 4,
  "nbformat_minor": 0
}